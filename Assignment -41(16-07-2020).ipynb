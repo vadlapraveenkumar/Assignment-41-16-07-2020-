{
 "cells": [
  {
   "cell_type": "markdown",
   "metadata": {
    "colab_type": "text",
    "id": "ogOSqFwz85hz"
   },
   "source": [
    "### CSE - 221710309059-v praveenkumar"
   ]
  },
  {
   "cell_type": "markdown",
   "metadata": {
    "colab_type": "text",
    "id": "YJHVMlqi86hf"
   },
   "source": [
    "### Assignment -41 (16 JULY 2020)"
   ]
  },
  {
   "cell_type": "code",
   "execution_count": null,
   "metadata": {
    "colab": {
     "base_uri": "https://localhost:8080/",
     "height": 50
    },
    "colab_type": "code",
    "executionInfo": {
     "elapsed": 1182,
     "status": "ok",
     "timestamp": 1595075936028,
     "user": {
      "displayName": "KARRI SRI SAI SOWMYA KARRI SRI SAI SOWMYA",
      "photoUrl": "",
      "userId": "10490912341868593376"
     },
     "user_tz": -330
    },
    "id": "wXS4xRng7ZXx",
    "outputId": "01c369ff-3a8a-4e61-9dc6-49c3419efdd8"
   },
   "outputs": [
    {
     "name": "stdout",
     "output_type": "stream",
     "text": [
      "Drive already mounted at /gdrive; to attempt to forcibly remount, call drive.mount(\"/gdrive\", force_remount=True).\n",
      "/gdrive\n"
     ]
    }
   ],
   "source": [
    "from google.colab import drive\n",
    "drive.mount('/gdrive')\n",
    "%cd /gdrive"
   ]
  },
  {
   "cell_type": "code",
   "execution_count": null,
   "metadata": {
    "colab": {
     "base_uri": "https://localhost:8080/",
     "height": 101
    },
    "colab_type": "code",
    "executionInfo": {
     "elapsed": 5240,
     "status": "ok",
     "timestamp": 1595075940096,
     "user": {
      "displayName": "KARRI SRI SAI SOWMYA KARRI SRI SAI SOWMYA",
      "photoUrl": "",
      "userId": "10490912341868593376"
     },
     "user_tz": -330
    },
    "id": "0zv41pAp7-vS",
    "outputId": "6aa5cbf7-7722-43eb-c525-f5bf43822b73"
   },
   "outputs": [
    {
     "name": "stdout",
     "output_type": "stream",
     "text": [
      "'10 july 2020 class.ipynb'\t\t    '9 july 2020.ipynb'\n",
      "'11 july 2020 class'\t\t\t     all_stocks_5yr.csv\n",
      "' 15 july 2020(weapon_detection_BL).ipynb'  'Assignment-38(10-july-2020).ipynb'\n",
      "'16 JULY 2020V-CLASS.ipynb'\t\t    'Assignment-39(11-07-20).ipynb'\n",
      " 20-06-2020.ipynb\t\t\t     titanic.csv\n"
     ]
    }
   ],
   "source": [
    "!ls 'My Drive/summer internship'"
   ]
  },
  {
   "cell_type": "code",
   "execution_count": null,
   "metadata": {
    "colab": {
     "base_uri": "https://localhost:8080/",
     "height": 34
    },
    "colab_type": "code",
    "executionInfo": {
     "elapsed": 6094,
     "status": "ok",
     "timestamp": 1595075940957,
     "user": {
      "displayName": "KARRI SRI SAI SOWMYA KARRI SRI SAI SOWMYA",
      "photoUrl": "",
      "userId": "10490912341868593376"
     },
     "user_tz": -330
    },
    "id": "sgiRydfk8KzO",
    "outputId": "744a5d79-0ab4-4013-ffd1-dd2e1f190636"
   },
   "outputs": [
    {
     "data": {
      "text/plain": [
       "(619040, 7)"
      ]
     },
     "execution_count": 3,
     "metadata": {
      "tags": []
     },
     "output_type": "execute_result"
    }
   ],
   "source": [
    "#all_stocks_5yr.csv\n",
    "import pandas as pd\n",
    "data = pd.read_csv('My Drive/summer internship/all_stocks_5yr.csv')\n",
    "data.shape"
   ]
  },
  {
   "cell_type": "code",
   "execution_count": null,
   "metadata": {
    "colab": {
     "base_uri": "https://localhost:8080/",
     "height": 195
    },
    "colab_type": "code",
    "executionInfo": {
     "elapsed": 6088,
     "status": "ok",
     "timestamp": 1595075940959,
     "user": {
      "displayName": "KARRI SRI SAI SOWMYA KARRI SRI SAI SOWMYA",
      "photoUrl": "",
      "userId": "10490912341868593376"
     },
     "user_tz": -330
    },
    "id": "mO2HVsdg8_uO",
    "outputId": "ea249b34-0a99-4dc6-c8e0-c6e86677c79e"
   },
   "outputs": [
    {
     "data": {
      "text/html": [
       "<div>\n",
       "<style scoped>\n",
       "    .dataframe tbody tr th:only-of-type {\n",
       "        vertical-align: middle;\n",
       "    }\n",
       "\n",
       "    .dataframe tbody tr th {\n",
       "        vertical-align: top;\n",
       "    }\n",
       "\n",
       "    .dataframe thead th {\n",
       "        text-align: right;\n",
       "    }\n",
       "</style>\n",
       "<table border=\"1\" class=\"dataframe\">\n",
       "  <thead>\n",
       "    <tr style=\"text-align: right;\">\n",
       "      <th></th>\n",
       "      <th>date</th>\n",
       "      <th>open</th>\n",
       "      <th>high</th>\n",
       "      <th>low</th>\n",
       "      <th>close</th>\n",
       "      <th>volume</th>\n",
       "      <th>Name</th>\n",
       "    </tr>\n",
       "  </thead>\n",
       "  <tbody>\n",
       "    <tr>\n",
       "      <th>0</th>\n",
       "      <td>2013-02-08</td>\n",
       "      <td>15.07</td>\n",
       "      <td>15.12</td>\n",
       "      <td>14.63</td>\n",
       "      <td>14.75</td>\n",
       "      <td>8407500</td>\n",
       "      <td>AAL</td>\n",
       "    </tr>\n",
       "    <tr>\n",
       "      <th>1</th>\n",
       "      <td>2013-02-11</td>\n",
       "      <td>14.89</td>\n",
       "      <td>15.01</td>\n",
       "      <td>14.26</td>\n",
       "      <td>14.46</td>\n",
       "      <td>8882000</td>\n",
       "      <td>AAL</td>\n",
       "    </tr>\n",
       "    <tr>\n",
       "      <th>2</th>\n",
       "      <td>2013-02-12</td>\n",
       "      <td>14.45</td>\n",
       "      <td>14.51</td>\n",
       "      <td>14.10</td>\n",
       "      <td>14.27</td>\n",
       "      <td>8126000</td>\n",
       "      <td>AAL</td>\n",
       "    </tr>\n",
       "    <tr>\n",
       "      <th>3</th>\n",
       "      <td>2013-02-13</td>\n",
       "      <td>14.30</td>\n",
       "      <td>14.94</td>\n",
       "      <td>14.25</td>\n",
       "      <td>14.66</td>\n",
       "      <td>10259500</td>\n",
       "      <td>AAL</td>\n",
       "    </tr>\n",
       "    <tr>\n",
       "      <th>4</th>\n",
       "      <td>2013-02-14</td>\n",
       "      <td>14.94</td>\n",
       "      <td>14.96</td>\n",
       "      <td>13.16</td>\n",
       "      <td>13.99</td>\n",
       "      <td>31879900</td>\n",
       "      <td>AAL</td>\n",
       "    </tr>\n",
       "  </tbody>\n",
       "</table>\n",
       "</div>"
      ],
      "text/plain": [
       "         date   open   high    low  close    volume Name\n",
       "0  2013-02-08  15.07  15.12  14.63  14.75   8407500  AAL\n",
       "1  2013-02-11  14.89  15.01  14.26  14.46   8882000  AAL\n",
       "2  2013-02-12  14.45  14.51  14.10  14.27   8126000  AAL\n",
       "3  2013-02-13  14.30  14.94  14.25  14.66  10259500  AAL\n",
       "4  2013-02-14  14.94  14.96  13.16  13.99  31879900  AAL"
      ]
     },
     "execution_count": 4,
     "metadata": {
      "tags": []
     },
     "output_type": "execute_result"
    }
   ],
   "source": [
    "# Top Five rows\n",
    "data.head()"
   ]
  },
  {
   "cell_type": "code",
   "execution_count": null,
   "metadata": {
    "colab": {
     "base_uri": "https://localhost:8080/",
     "height": 34
    },
    "colab_type": "code",
    "executionInfo": {
     "elapsed": 6082,
     "status": "ok",
     "timestamp": 1595075940960,
     "user": {
      "displayName": "KARRI SRI SAI SOWMYA KARRI SRI SAI SOWMYA",
      "photoUrl": "",
      "userId": "10490912341868593376"
     },
     "user_tz": -330
    },
    "id": "xfdlWA-9-F8y",
    "outputId": "8d4a0b4c-15e7-4299-86b3-2503a8f5a09c"
   },
   "outputs": [
    {
     "data": {
      "text/plain": [
       "Index(['date', 'open', 'high', 'low', 'close', 'volume', 'Name'], dtype='object')"
      ]
     },
     "execution_count": 5,
     "metadata": {
      "tags": []
     },
     "output_type": "execute_result"
    }
   ],
   "source": [
    "data.columns"
   ]
  },
  {
   "cell_type": "code",
   "execution_count": null,
   "metadata": {
    "colab": {
     "base_uri": "https://localhost:8080/",
     "height": 218
    },
    "colab_type": "code",
    "executionInfo": {
     "elapsed": 6076,
     "status": "ok",
     "timestamp": 1595075940960,
     "user": {
      "displayName": "KARRI SRI SAI SOWMYA KARRI SRI SAI SOWMYA",
      "photoUrl": "",
      "userId": "10490912341868593376"
     },
     "user_tz": -330
    },
    "id": "O9fu2z0MXGd_",
    "outputId": "e95da9a7-ea64-40c3-a54d-06e7620fcf8e"
   },
   "outputs": [
    {
     "data": {
      "text/plain": [
       "UAL     1259\n",
       "DUK     1259\n",
       "INCY    1259\n",
       "CHK     1259\n",
       "MON     1259\n",
       "        ... \n",
       "DXC      215\n",
       "BHGE     152\n",
       "BHF      143\n",
       "DWDP     109\n",
       "APTV      44\n",
       "Name: Name, Length: 505, dtype: int64"
      ]
     },
     "execution_count": 6,
     "metadata": {
      "tags": []
     },
     "output_type": "execute_result"
    }
   ],
   "source": [
    "data['Name'].value_counts()"
   ]
  },
  {
   "cell_type": "code",
   "execution_count": null,
   "metadata": {
    "colab": {
     "base_uri": "https://localhost:8080/",
     "height": 34
    },
    "colab_type": "code",
    "executionInfo": {
     "elapsed": 6070,
     "status": "ok",
     "timestamp": 1595075940961,
     "user": {
      "displayName": "KARRI SRI SAI SOWMYA KARRI SRI SAI SOWMYA",
      "photoUrl": "",
      "userId": "10490912341868593376"
     },
     "user_tz": -330
    },
    "id": "3vKfEXxi-NwP",
    "outputId": "e2e55669-f640-4f17-9268-3b604814710c"
   },
   "outputs": [
    {
     "data": {
      "text/plain": [
       "505"
      ]
     },
     "execution_count": 7,
     "metadata": {
      "tags": []
     },
     "output_type": "execute_result"
    }
   ],
   "source": [
    "### How many company's data we have here?\n",
    "data.Name.nunique()"
   ]
  },
  {
   "cell_type": "code",
   "execution_count": null,
   "metadata": {
    "colab": {
     "base_uri": "https://localhost:8080/",
     "height": 34
    },
    "colab_type": "code",
    "executionInfo": {
     "elapsed": 6062,
     "status": "ok",
     "timestamp": 1595075940962,
     "user": {
      "displayName": "KARRI SRI SAI SOWMYA KARRI SRI SAI SOWMYA",
      "photoUrl": "",
      "userId": "10490912341868593376"
     },
     "user_tz": -330
    },
    "id": "au3mWKlM-U6Q",
    "outputId": "066bc7a7-7d87-4b84-b32f-6f3b0ca44582"
   },
   "outputs": [
    {
     "data": {
      "text/plain": [
       "(1259, 7)"
      ]
     },
     "execution_count": 8,
     "metadata": {
      "tags": []
     },
     "output_type": "execute_result"
    }
   ],
   "source": [
    "## Selecting the data AAL\n",
    "df = data[data['Name']=='TDG']\n",
    "df.shape"
   ]
  },
  {
   "cell_type": "code",
   "execution_count": null,
   "metadata": {
    "colab": {
     "base_uri": "https://localhost:8080/",
     "height": 34
    },
    "colab_type": "code",
    "executionInfo": {
     "elapsed": 6056,
     "status": "ok",
     "timestamp": 1595075940963,
     "user": {
      "displayName": "KARRI SRI SAI SOWMYA KARRI SRI SAI SOWMYA",
      "photoUrl": "",
      "userId": "10490912341868593376"
     },
     "user_tz": -330
    },
    "id": "ptcOqm5w-vtp",
    "outputId": "f246bd66-5af7-4c3f-ef76-864c56c9ec66"
   },
   "outputs": [
    {
     "data": {
      "text/plain": [
       "Index(['date', 'open', 'high', 'low', 'close', 'volume', 'Name'], dtype='object')"
      ]
     },
     "execution_count": 9,
     "metadata": {
      "tags": []
     },
     "output_type": "execute_result"
    }
   ],
   "source": [
    "df.columns"
   ]
  },
  {
   "cell_type": "code",
   "execution_count": null,
   "metadata": {
    "colab": {
     "base_uri": "https://localhost:8080/",
     "height": 402
    },
    "colab_type": "code",
    "executionInfo": {
     "elapsed": 6051,
     "status": "ok",
     "timestamp": 1595075940965,
     "user": {
      "displayName": "KARRI SRI SAI SOWMYA KARRI SRI SAI SOWMYA",
      "photoUrl": "",
      "userId": "10490912341868593376"
     },
     "user_tz": -330
    },
    "id": "7PLWQr5P-ymJ",
    "outputId": "9c1012af-89b6-45f7-b11c-75021184a3d9"
   },
   "outputs": [
    {
     "data": {
      "text/html": [
       "<div>\n",
       "<style scoped>\n",
       "    .dataframe tbody tr th:only-of-type {\n",
       "        vertical-align: middle;\n",
       "    }\n",
       "\n",
       "    .dataframe tbody tr th {\n",
       "        vertical-align: top;\n",
       "    }\n",
       "\n",
       "    .dataframe thead th {\n",
       "        text-align: right;\n",
       "    }\n",
       "</style>\n",
       "<table border=\"1\" class=\"dataframe\">\n",
       "  <thead>\n",
       "    <tr style=\"text-align: right;\">\n",
       "      <th></th>\n",
       "      <th>date</th>\n",
       "      <th>close</th>\n",
       "    </tr>\n",
       "  </thead>\n",
       "  <tbody>\n",
       "    <tr>\n",
       "      <th>533033</th>\n",
       "      <td>2013-02-08</td>\n",
       "      <td>143.05</td>\n",
       "    </tr>\n",
       "    <tr>\n",
       "      <th>533034</th>\n",
       "      <td>2013-02-11</td>\n",
       "      <td>145.18</td>\n",
       "    </tr>\n",
       "    <tr>\n",
       "      <th>533035</th>\n",
       "      <td>2013-02-12</td>\n",
       "      <td>144.91</td>\n",
       "    </tr>\n",
       "    <tr>\n",
       "      <th>533036</th>\n",
       "      <td>2013-02-13</td>\n",
       "      <td>144.75</td>\n",
       "    </tr>\n",
       "    <tr>\n",
       "      <th>533037</th>\n",
       "      <td>2013-02-14</td>\n",
       "      <td>143.44</td>\n",
       "    </tr>\n",
       "    <tr>\n",
       "      <th>...</th>\n",
       "      <td>...</td>\n",
       "      <td>...</td>\n",
       "    </tr>\n",
       "    <tr>\n",
       "      <th>534287</th>\n",
       "      <td>2018-02-01</td>\n",
       "      <td>315.20</td>\n",
       "    </tr>\n",
       "    <tr>\n",
       "      <th>534288</th>\n",
       "      <td>2018-02-02</td>\n",
       "      <td>307.28</td>\n",
       "    </tr>\n",
       "    <tr>\n",
       "      <th>534289</th>\n",
       "      <td>2018-02-05</td>\n",
       "      <td>296.86</td>\n",
       "    </tr>\n",
       "    <tr>\n",
       "      <th>534290</th>\n",
       "      <td>2018-02-06</td>\n",
       "      <td>290.66</td>\n",
       "    </tr>\n",
       "    <tr>\n",
       "      <th>534291</th>\n",
       "      <td>2018-02-07</td>\n",
       "      <td>292.10</td>\n",
       "    </tr>\n",
       "  </tbody>\n",
       "</table>\n",
       "<p>1259 rows × 2 columns</p>\n",
       "</div>"
      ],
      "text/plain": [
       "              date   close\n",
       "533033  2013-02-08  143.05\n",
       "533034  2013-02-11  145.18\n",
       "533035  2013-02-12  144.91\n",
       "533036  2013-02-13  144.75\n",
       "533037  2013-02-14  143.44\n",
       "...            ...     ...\n",
       "534287  2018-02-01  315.20\n",
       "534288  2018-02-02  307.28\n",
       "534289  2018-02-05  296.86\n",
       "534290  2018-02-06  290.66\n",
       "534291  2018-02-07  292.10\n",
       "\n",
       "[1259 rows x 2 columns]"
      ]
     },
     "execution_count": 10,
     "metadata": {
      "tags": []
     },
     "output_type": "execute_result"
    }
   ],
   "source": [
    "#select the columns data and close price\n",
    "df = df[['date','close']]\n",
    "df"
   ]
  },
  {
   "cell_type": "code",
   "execution_count": null,
   "metadata": {
    "colab": {
     "base_uri": "https://localhost:8080/",
     "height": 285
    },
    "colab_type": "code",
    "executionInfo": {
     "elapsed": 18726,
     "status": "ok",
     "timestamp": 1595075953647,
     "user": {
      "displayName": "KARRI SRI SAI SOWMYA KARRI SRI SAI SOWMYA",
      "photoUrl": "",
      "userId": "10490912341868593376"
     },
     "user_tz": -330
    },
    "id": "MpbU4HfJ_B3b",
    "outputId": "ea543a4f-4380-4072-8422-d1ef24a6c73a"
   },
   "outputs": [
    {
     "data": {
      "text/plain": [
       "[<matplotlib.lines.Line2D at 0x7fcb94862320>]"
      ]
     },
     "execution_count": 11,
     "metadata": {
      "tags": []
     },
     "output_type": "execute_result"
    },
    {
     "data": {
      "image/png": "[encoded data removed]",
      "text/plain": [
       "<Figure size 432x288 with 1 Axes>"
      ]
     },
     "metadata": {
      "needs_background": "light",
      "tags": []
     },
     "output_type": "display_data"
    }
   ],
   "source": [
    "#line plot\n",
    "import matplotlib.pyplot as plt\n",
    "plt.plot(df['date'],df['close'])"
   ]
  },
  {
   "cell_type": "code",
   "execution_count": null,
   "metadata": {
    "colab": {
     "base_uri": "https://localhost:8080/",
     "height": 202
    },
    "colab_type": "code",
    "executionInfo": {
     "elapsed": 18720,
     "status": "ok",
     "timestamp": 1595075953648,
     "user": {
      "displayName": "KARRI SRI SAI SOWMYA KARRI SRI SAI SOWMYA",
      "photoUrl": "",
      "userId": "10490912341868593376"
     },
     "user_tz": -330
    },
    "id": "TPjGRa3t_On2",
    "outputId": "d4ebb6f6-d6db-4e66-a5c2-5b72b9153ca5"
   },
   "outputs": [
    {
     "data": {
      "text/plain": [
       "533033    2013-02-08\n",
       "533034    2013-02-11\n",
       "533035    2013-02-12\n",
       "533036    2013-02-13\n",
       "533037    2013-02-14\n",
       "533038    2013-02-15\n",
       "533039    2013-02-19\n",
       "533040    2013-02-20\n",
       "533041    2013-02-21\n",
       "533042    2013-02-22\n",
       "Name: date, dtype: object"
      ]
     },
     "execution_count": 12,
     "metadata": {
      "tags": []
     },
     "output_type": "execute_result"
    }
   ],
   "source": [
    "df.date[:10]"
   ]
  },
  {
   "cell_type": "code",
   "execution_count": null,
   "metadata": {
    "colab": {
     "base_uri": "https://localhost:8080/",
     "height": 67
    },
    "colab_type": "code",
    "executionInfo": {
     "elapsed": 18714,
     "status": "ok",
     "timestamp": 1595075953649,
     "user": {
      "displayName": "KARRI SRI SAI SOWMYA KARRI SRI SAI SOWMYA",
      "photoUrl": "",
      "userId": "10490912341868593376"
     },
     "user_tz": -330
    },
    "id": "6OVvsbkeDPdr",
    "outputId": "aa7722f6-0c9e-4799-89ae-74fa095046e3"
   },
   "outputs": [
    {
     "data": {
      "text/plain": [
       "date     0\n",
       "close    0\n",
       "dtype: int64"
      ]
     },
     "execution_count": 13,
     "metadata": {
      "tags": []
     },
     "output_type": "execute_result"
    }
   ],
   "source": [
    "### Missing values in the data\n",
    "df.isnull().sum()"
   ]
  },
  {
   "cell_type": "code",
   "execution_count": null,
   "metadata": {
    "colab": {
     "base_uri": "https://localhost:8080/",
     "height": 269
    },
    "colab_type": "code",
    "executionInfo": {
     "elapsed": 18707,
     "status": "ok",
     "timestamp": 1595075953649,
     "user": {
      "displayName": "KARRI SRI SAI SOWMYA KARRI SRI SAI SOWMYA",
      "photoUrl": "",
      "userId": "10490912341868593376"
     },
     "user_tz": -330
    },
    "id": "FoPY-SnRDTry",
    "outputId": "3981a4a4-0236-4c09-a2d9-f654c78fc979"
   },
   "outputs": [
    {
     "name": "stdout",
     "output_type": "stream",
     "text": [
      "[533033    143.05\n",
      "533034    145.18\n",
      "533035    144.91\n",
      "533036    144.75\n",
      "533037    143.44\n",
      "533038    143.77\n",
      "533039    143.05\n",
      "Name: close, dtype: float64, 533034    145.18\n",
      "533035    144.91\n",
      "533036    144.75\n",
      "533037    143.44\n",
      "533038    143.77\n",
      "533039    143.05\n",
      "533040    139.86\n",
      "Name: close, dtype: float64]\n"
     ]
    }
   ],
   "source": [
    "## Preparing the data\n",
    "## Features and target\n",
    "## Input and output\n",
    "## last 7 days data as input\n",
    "## X -- [[d1-d7],[d9,d15],[d17,23]....]\n",
    "## y -- [d8,d16,d24,...]\n",
    "\n",
    "## X = [[d1-d7],[d2-d8],]\n",
    "## y = [d8,d9]\n",
    "\n",
    "X = [] ## input\n",
    "y = [] ## ouput\n",
    "for i  in range(df.shape[0]-7-1):   \n",
    "  X.append(df['close'][i:i+7])# 0 -->[0:7], 1-->[1:8]\n",
    "  y.append(df['close'][i+533040]) \n",
    "print(X[:2])"
   ]
  },
  {
   "cell_type": "code",
   "execution_count": null,
   "metadata": {
    "colab": {},
    "colab_type": "code",
    "id": "g8Us1e0xGtls"
   },
   "outputs": [],
   "source": [
    "import numpy as np\n",
    "X = np.array(X)"
   ]
  },
  {
   "cell_type": "code",
   "execution_count": null,
   "metadata": {
    "colab": {
     "base_uri": "https://localhost:8080/",
     "height": 195
    },
    "colab_type": "code",
    "executionInfo": {
     "elapsed": 18686,
     "status": "ok",
     "timestamp": 1595075953651,
     "user": {
      "displayName": "KARRI SRI SAI SOWMYA KARRI SRI SAI SOWMYA",
      "photoUrl": "",
      "userId": "10490912341868593376"
     },
     "user_tz": -330
    },
    "id": "R2hTTPimGww0",
    "outputId": "f04faffa-47ad-4420-9ed9-52425670631f"
   },
   "outputs": [
    {
     "data": {
      "text/html": [
       "<div>\n",
       "<style scoped>\n",
       "    .dataframe tbody tr th:only-of-type {\n",
       "        vertical-align: middle;\n",
       "    }\n",
       "\n",
       "    .dataframe tbody tr th {\n",
       "        vertical-align: top;\n",
       "    }\n",
       "\n",
       "    .dataframe thead th {\n",
       "        text-align: right;\n",
       "    }\n",
       "</style>\n",
       "<table border=\"1\" class=\"dataframe\">\n",
       "  <thead>\n",
       "    <tr style=\"text-align: right;\">\n",
       "      <th></th>\n",
       "      <th>d1</th>\n",
       "      <th>d2</th>\n",
       "      <th>d3</th>\n",
       "      <th>d4</th>\n",
       "      <th>d5</th>\n",
       "      <th>d6</th>\n",
       "      <th>d7</th>\n",
       "    </tr>\n",
       "  </thead>\n",
       "  <tbody>\n",
       "    <tr>\n",
       "      <th>0</th>\n",
       "      <td>143.05</td>\n",
       "      <td>145.18</td>\n",
       "      <td>144.91</td>\n",
       "      <td>144.75</td>\n",
       "      <td>143.44</td>\n",
       "      <td>143.77</td>\n",
       "      <td>143.05</td>\n",
       "    </tr>\n",
       "    <tr>\n",
       "      <th>1</th>\n",
       "      <td>145.18</td>\n",
       "      <td>144.91</td>\n",
       "      <td>144.75</td>\n",
       "      <td>143.44</td>\n",
       "      <td>143.77</td>\n",
       "      <td>143.05</td>\n",
       "      <td>139.86</td>\n",
       "    </tr>\n",
       "    <tr>\n",
       "      <th>2</th>\n",
       "      <td>144.91</td>\n",
       "      <td>144.75</td>\n",
       "      <td>143.44</td>\n",
       "      <td>143.77</td>\n",
       "      <td>143.05</td>\n",
       "      <td>139.86</td>\n",
       "      <td>141.16</td>\n",
       "    </tr>\n",
       "    <tr>\n",
       "      <th>3</th>\n",
       "      <td>144.75</td>\n",
       "      <td>143.44</td>\n",
       "      <td>143.77</td>\n",
       "      <td>143.05</td>\n",
       "      <td>139.86</td>\n",
       "      <td>141.16</td>\n",
       "      <td>142.74</td>\n",
       "    </tr>\n",
       "    <tr>\n",
       "      <th>4</th>\n",
       "      <td>143.44</td>\n",
       "      <td>143.77</td>\n",
       "      <td>143.05</td>\n",
       "      <td>139.86</td>\n",
       "      <td>141.16</td>\n",
       "      <td>142.74</td>\n",
       "      <td>138.83</td>\n",
       "    </tr>\n",
       "  </tbody>\n",
       "</table>\n",
       "</div>"
      ],
      "text/plain": [
       "       d1      d2      d3      d4      d5      d6      d7\n",
       "0  143.05  145.18  144.91  144.75  143.44  143.77  143.05\n",
       "1  145.18  144.91  144.75  143.44  143.77  143.05  139.86\n",
       "2  144.91  144.75  143.44  143.77  143.05  139.86  141.16\n",
       "3  144.75  143.44  143.77  143.05  139.86  141.16  142.74\n",
       "4  143.44  143.77  143.05  139.86  141.16  142.74  138.83"
      ]
     },
     "execution_count": 16,
     "metadata": {
      "tags": []
     },
     "output_type": "execute_result"
    }
   ],
   "source": [
    "df1 = pd.DataFrame(X,columns=['d1','d2','d3','d4','d5','d6','d7'])\n",
    "df1.head()"
   ]
  },
  {
   "cell_type": "code",
   "execution_count": null,
   "metadata": {
    "colab": {
     "base_uri": "https://localhost:8080/",
     "height": 195
    },
    "colab_type": "code",
    "executionInfo": {
     "elapsed": 18672,
     "status": "ok",
     "timestamp": 1595075953651,
     "user": {
      "displayName": "KARRI SRI SAI SOWMYA KARRI SRI SAI SOWMYA",
      "photoUrl": "",
      "userId": "10490912341868593376"
     },
     "user_tz": -330
    },
    "id": "yHANsBFsG0N9",
    "outputId": "ec945e9a-426b-46e5-8f3e-5087211c0cd3"
   },
   "outputs": [
    {
     "data": {
      "text/html": [
       "<div>\n",
       "<style scoped>\n",
       "    .dataframe tbody tr th:only-of-type {\n",
       "        vertical-align: middle;\n",
       "    }\n",
       "\n",
       "    .dataframe tbody tr th {\n",
       "        vertical-align: top;\n",
       "    }\n",
       "\n",
       "    .dataframe thead th {\n",
       "        text-align: right;\n",
       "    }\n",
       "</style>\n",
       "<table border=\"1\" class=\"dataframe\">\n",
       "  <thead>\n",
       "    <tr style=\"text-align: right;\">\n",
       "      <th></th>\n",
       "      <th>d1</th>\n",
       "      <th>d2</th>\n",
       "      <th>d3</th>\n",
       "      <th>d4</th>\n",
       "      <th>d5</th>\n",
       "      <th>d6</th>\n",
       "      <th>d7</th>\n",
       "      <th>d8</th>\n",
       "    </tr>\n",
       "  </thead>\n",
       "  <tbody>\n",
       "    <tr>\n",
       "      <th>0</th>\n",
       "      <td>143.05</td>\n",
       "      <td>145.18</td>\n",
       "      <td>144.91</td>\n",
       "      <td>144.75</td>\n",
       "      <td>143.44</td>\n",
       "      <td>143.77</td>\n",
       "      <td>143.05</td>\n",
       "      <td>139.86</td>\n",
       "    </tr>\n",
       "    <tr>\n",
       "      <th>1</th>\n",
       "      <td>145.18</td>\n",
       "      <td>144.91</td>\n",
       "      <td>144.75</td>\n",
       "      <td>143.44</td>\n",
       "      <td>143.77</td>\n",
       "      <td>143.05</td>\n",
       "      <td>139.86</td>\n",
       "      <td>141.16</td>\n",
       "    </tr>\n",
       "    <tr>\n",
       "      <th>2</th>\n",
       "      <td>144.91</td>\n",
       "      <td>144.75</td>\n",
       "      <td>143.44</td>\n",
       "      <td>143.77</td>\n",
       "      <td>143.05</td>\n",
       "      <td>139.86</td>\n",
       "      <td>141.16</td>\n",
       "      <td>142.74</td>\n",
       "    </tr>\n",
       "    <tr>\n",
       "      <th>3</th>\n",
       "      <td>144.75</td>\n",
       "      <td>143.44</td>\n",
       "      <td>143.77</td>\n",
       "      <td>143.05</td>\n",
       "      <td>139.86</td>\n",
       "      <td>141.16</td>\n",
       "      <td>142.74</td>\n",
       "      <td>138.83</td>\n",
       "    </tr>\n",
       "    <tr>\n",
       "      <th>4</th>\n",
       "      <td>143.44</td>\n",
       "      <td>143.77</td>\n",
       "      <td>143.05</td>\n",
       "      <td>139.86</td>\n",
       "      <td>141.16</td>\n",
       "      <td>142.74</td>\n",
       "      <td>138.83</td>\n",
       "      <td>139.18</td>\n",
       "    </tr>\n",
       "  </tbody>\n",
       "</table>\n",
       "</div>"
      ],
      "text/plain": [
       "       d1      d2      d3      d4      d5      d6      d7      d8\n",
       "0  143.05  145.18  144.91  144.75  143.44  143.77  143.05  139.86\n",
       "1  145.18  144.91  144.75  143.44  143.77  143.05  139.86  141.16\n",
       "2  144.91  144.75  143.44  143.77  143.05  139.86  141.16  142.74\n",
       "3  144.75  143.44  143.77  143.05  139.86  141.16  142.74  138.83\n",
       "4  143.44  143.77  143.05  139.86  141.16  142.74  138.83  139.18"
      ]
     },
     "execution_count": 17,
     "metadata": {
      "tags": []
     },
     "output_type": "execute_result"
    }
   ],
   "source": [
    "df1['d8'] = y\n",
    "df1.head()"
   ]
  },
  {
   "cell_type": "code",
   "execution_count": null,
   "metadata": {
    "colab": {
     "base_uri": "https://localhost:8080/",
     "height": 34
    },
    "colab_type": "code",
    "executionInfo": {
     "elapsed": 18662,
     "status": "ok",
     "timestamp": 1595075953652,
     "user": {
      "displayName": "KARRI SRI SAI SOWMYA KARRI SRI SAI SOWMYA",
      "photoUrl": "",
      "userId": "10490912341868593376"
     },
     "user_tz": -330
    },
    "id": "_ouP22FRG3eM",
    "outputId": "10288312-9cdb-4040-f982-25cbdb6359a9"
   },
   "outputs": [
    {
     "data": {
      "text/plain": [
       "(1251, 8)"
      ]
     },
     "execution_count": 18,
     "metadata": {
      "tags": []
     },
     "output_type": "execute_result"
    }
   ],
   "source": [
    "df1.shape"
   ]
  },
  {
   "cell_type": "code",
   "execution_count": null,
   "metadata": {
    "colab": {
     "base_uri": "https://localhost:8080/",
     "height": 34
    },
    "colab_type": "code",
    "executionInfo": {
     "elapsed": 18652,
     "status": "ok",
     "timestamp": 1595075953652,
     "user": {
      "displayName": "KARRI SRI SAI SOWMYA KARRI SRI SAI SOWMYA",
      "photoUrl": "",
      "userId": "10490912341868593376"
     },
     "user_tz": -330
    },
    "id": "LXg27Hw5MJ7z",
    "outputId": "33eae362-8e5a-44b6-fd12-8e841944ac73"
   },
   "outputs": [
    {
     "data": {
      "text/plain": [
       "1000.8000000000001"
      ]
     },
     "execution_count": 19,
     "metadata": {
      "tags": []
     },
     "output_type": "execute_result"
    }
   ],
   "source": [
    "1251 * 0.8"
   ]
  },
  {
   "cell_type": "code",
   "execution_count": null,
   "metadata": {
    "colab": {
     "base_uri": "https://localhost:8080/",
     "height": 84
    },
    "colab_type": "code",
    "executionInfo": {
     "elapsed": 18643,
     "status": "ok",
     "timestamp": 1595075953653,
     "user": {
      "displayName": "KARRI SRI SAI SOWMYA KARRI SRI SAI SOWMYA",
      "photoUrl": "",
      "userId": "10490912341868593376"
     },
     "user_tz": -330
    },
    "id": "zcmbLgjMMLB3",
    "outputId": "619a40a6-9b9f-4362-be30-a1b3e285d085"
   },
   "outputs": [
    {
     "name": "stdout",
     "output_type": "stream",
     "text": [
      "(1000, 7)\n",
      "(1000,)\n",
      "(251, 7)\n",
      "(251,)\n"
     ]
    }
   ],
   "source": [
    "## Train test split\n",
    "X_train = df1.iloc[0:1000,0:7]\n",
    "X_test = df1.iloc[1000:,0:7]\n",
    "y_train =  df1['d8'][:1000]\n",
    "y_test  = df1['d8'][1000:]\n",
    "print(X_train.shape)\n",
    "print(y_train.shape)\n",
    "print(X_test.shape)\n",
    "print(y_test.shape)"
   ]
  },
  {
   "cell_type": "code",
   "execution_count": null,
   "metadata": {
    "colab": {
     "base_uri": "https://localhost:8080/",
     "height": 284
    },
    "colab_type": "code",
    "executionInfo": {
     "elapsed": 19117,
     "status": "ok",
     "timestamp": 1595075954140,
     "user": {
      "displayName": "KARRI SRI SAI SOWMYA KARRI SRI SAI SOWMYA",
      "photoUrl": "",
      "userId": "10490912341868593376"
     },
     "user_tz": -330
    },
    "id": "DbQmRFehMOyA",
    "outputId": "e6fd2d2c-d046-4da0-986f-a1f436cfde05"
   },
   "outputs": [
    {
     "data": {
      "text/html": [
       "<div>\n",
       "<style scoped>\n",
       "    .dataframe tbody tr th:only-of-type {\n",
       "        vertical-align: middle;\n",
       "    }\n",
       "\n",
       "    .dataframe tbody tr th {\n",
       "        vertical-align: top;\n",
       "    }\n",
       "\n",
       "    .dataframe thead th {\n",
       "        text-align: right;\n",
       "    }\n",
       "</style>\n",
       "<table border=\"1\" class=\"dataframe\">\n",
       "  <thead>\n",
       "    <tr style=\"text-align: right;\">\n",
       "      <th></th>\n",
       "      <th>d1</th>\n",
       "      <th>d2</th>\n",
       "      <th>d3</th>\n",
       "      <th>d4</th>\n",
       "      <th>d5</th>\n",
       "      <th>d6</th>\n",
       "      <th>d7</th>\n",
       "    </tr>\n",
       "  </thead>\n",
       "  <tbody>\n",
       "    <tr>\n",
       "      <th>count</th>\n",
       "      <td>1.000000e+03</td>\n",
       "      <td>1.000000e+03</td>\n",
       "      <td>1.000000e+03</td>\n",
       "      <td>1.000000e+03</td>\n",
       "      <td>1.000000e+03</td>\n",
       "      <td>1.000000e+03</td>\n",
       "      <td>1.000000e+03</td>\n",
       "    </tr>\n",
       "    <tr>\n",
       "      <th>mean</th>\n",
       "      <td>-1.720846e-16</td>\n",
       "      <td>1.534328e-16</td>\n",
       "      <td>3.625433e-16</td>\n",
       "      <td>2.612355e-16</td>\n",
       "      <td>-8.598677e-17</td>\n",
       "      <td>-2.949863e-16</td>\n",
       "      <td>-5.948575e-16</td>\n",
       "    </tr>\n",
       "    <tr>\n",
       "      <th>std</th>\n",
       "      <td>1.000500e+00</td>\n",
       "      <td>1.000500e+00</td>\n",
       "      <td>1.000500e+00</td>\n",
       "      <td>1.000500e+00</td>\n",
       "      <td>1.000500e+00</td>\n",
       "      <td>1.000500e+00</td>\n",
       "      <td>1.000500e+00</td>\n",
       "    </tr>\n",
       "    <tr>\n",
       "      <th>min</th>\n",
       "      <td>-1.600751e+00</td>\n",
       "      <td>-1.603999e+00</td>\n",
       "      <td>-1.607093e+00</td>\n",
       "      <td>-1.610251e+00</td>\n",
       "      <td>-1.613449e+00</td>\n",
       "      <td>-1.616778e+00</td>\n",
       "      <td>-1.620099e+00</td>\n",
       "    </tr>\n",
       "    <tr>\n",
       "      <th>25%</th>\n",
       "      <td>-8.198877e-01</td>\n",
       "      <td>-8.186102e-01</td>\n",
       "      <td>-8.187042e-01</td>\n",
       "      <td>-8.178015e-01</td>\n",
       "      <td>-8.184258e-01</td>\n",
       "      <td>-8.163165e-01</td>\n",
       "      <td>-8.152131e-01</td>\n",
       "    </tr>\n",
       "    <tr>\n",
       "      <th>50%</th>\n",
       "      <td>8.418603e-02</td>\n",
       "      <td>8.986731e-02</td>\n",
       "      <td>9.620145e-02</td>\n",
       "      <td>9.806986e-02</td>\n",
       "      <td>1.027375e-01</td>\n",
       "      <td>1.064700e-01</td>\n",
       "      <td>1.091178e-01</td>\n",
       "    </tr>\n",
       "    <tr>\n",
       "      <th>75%</th>\n",
       "      <td>6.105218e-01</td>\n",
       "      <td>6.093527e-01</td>\n",
       "      <td>6.081976e-01</td>\n",
       "      <td>6.069466e-01</td>\n",
       "      <td>6.056328e-01</td>\n",
       "      <td>6.042101e-01</td>\n",
       "      <td>6.034346e-01</td>\n",
       "    </tr>\n",
       "    <tr>\n",
       "      <th>max</th>\n",
       "      <td>2.112597e+00</td>\n",
       "      <td>2.112840e+00</td>\n",
       "      <td>2.113002e+00</td>\n",
       "      <td>2.113046e+00</td>\n",
       "      <td>2.113012e+00</td>\n",
       "      <td>2.112884e+00</td>\n",
       "      <td>2.112439e+00</td>\n",
       "    </tr>\n",
       "  </tbody>\n",
       "</table>\n",
       "</div>"
      ],
      "text/plain": [
       "                 d1            d2  ...            d6            d7\n",
       "count  1.000000e+03  1.000000e+03  ...  1.000000e+03  1.000000e+03\n",
       "mean  -1.720846e-16  1.534328e-16  ... -2.949863e-16 -5.948575e-16\n",
       "std    1.000500e+00  1.000500e+00  ...  1.000500e+00  1.000500e+00\n",
       "min   -1.600751e+00 -1.603999e+00  ... -1.616778e+00 -1.620099e+00\n",
       "25%   -8.198877e-01 -8.186102e-01  ... -8.163165e-01 -8.152131e-01\n",
       "50%    8.418603e-02  8.986731e-02  ...  1.064700e-01  1.091178e-01\n",
       "75%    6.105218e-01  6.093527e-01  ...  6.042101e-01  6.034346e-01\n",
       "max    2.112597e+00  2.112840e+00  ...  2.112884e+00  2.112439e+00\n",
       "\n",
       "[8 rows x 7 columns]"
      ]
     },
     "execution_count": 21,
     "metadata": {
      "tags": []
     },
     "output_type": "execute_result"
    }
   ],
   "source": [
    "## Sacling the data\n",
    "from sklearn.preprocessing import StandardScaler\n",
    "sc = StandardScaler()\n",
    "sc.fit(X_train)\n",
    "X_train_sc = pd.DataFrame(sc.transform(X_train),columns = X_train.columns)\n",
    "X_test_sc = pd.DataFrame(sc.transform(X_test),columns = X_train.columns)\n",
    "X_train_sc.describe()"
   ]
  },
  {
   "cell_type": "code",
   "execution_count": null,
   "metadata": {
    "colab": {
     "base_uri": "https://localhost:8080/",
     "height": 235
    },
    "colab_type": "code",
    "executionInfo": {
     "elapsed": 20925,
     "status": "ok",
     "timestamp": 1595075955956,
     "user": {
      "displayName": "KARRI SRI SAI SOWMYA KARRI SRI SAI SOWMYA",
      "photoUrl": "",
      "userId": "10490912341868593376"
     },
     "user_tz": -330
    },
    "id": "GM23gcpxMS2C",
    "outputId": "52792665-870c-456f-9d02-0a2fbe750ebc"
   },
   "outputs": [
    {
     "name": "stderr",
     "output_type": "stream",
     "text": [
      "Using TensorFlow backend.\n"
     ]
    },
    {
     "name": "stdout",
     "output_type": "stream",
     "text": [
      "Model: \"sequential_1\"\n",
      "_________________________________________________________________\n",
      "Layer (type)                 Output Shape              Param #   \n",
      "=================================================================\n",
      "lstm_1 (LSTM)                (None, 256)               264192    \n",
      "_________________________________________________________________\n",
      "dense_1 (Dense)              (None, 1)                 257       \n",
      "=================================================================\n",
      "Total params: 264,449\n",
      "Trainable params: 264,449\n",
      "Non-trainable params: 0\n",
      "_________________________________________________________________\n"
     ]
    }
   ],
   "source": [
    "from keras.models import Sequential\n",
    "from keras.layers import Dense,Dropout,LSTM\n",
    "model = Sequential()\n",
    "model.add(LSTM(256,input_shape=(7,1)))\n",
    "model.add(Dense(1))\n",
    "model.summary()"
   ]
  },
  {
   "cell_type": "code",
   "execution_count": null,
   "metadata": {
    "colab": {},
    "colab_type": "code",
    "id": "m8m2OsZKMXF6"
   },
   "outputs": [],
   "source": [
    "model.compile(optimizer='adam',loss='mse')"
   ]
  },
  {
   "cell_type": "code",
   "execution_count": null,
   "metadata": {
    "colab": {
     "base_uri": "https://localhost:8080/",
     "height": 34
    },
    "colab_type": "code",
    "executionInfo": {
     "elapsed": 20915,
     "status": "ok",
     "timestamp": 1595075955958,
     "user": {
      "displayName": "KARRI SRI SAI SOWMYA KARRI SRI SAI SOWMYA",
      "photoUrl": "",
      "userId": "10490912341868593376"
     },
     "user_tz": -330
    },
    "id": "wYrN77PCYVT5",
    "outputId": "fda7cb9c-3be1-498e-e654-4b1f507a3541"
   },
   "outputs": [
    {
     "data": {
      "text/plain": [
       "(251, 7)"
      ]
     },
     "execution_count": 24,
     "metadata": {
      "tags": []
     },
     "output_type": "execute_result"
    }
   ],
   "source": [
    "X_test.shape"
   ]
  },
  {
   "cell_type": "code",
   "execution_count": null,
   "metadata": {
    "colab": {},
    "colab_type": "code",
    "id": "YN8stxEeYhco"
   },
   "outputs": [],
   "source": [
    "# number of records , time steps,Features\n",
    "X_train_sc = X_train_sc.values.reshape(1000,7,1)\n",
    "X_test_sc = X_test_sc.values.reshape(251,7,1)"
   ]
  },
  {
   "cell_type": "code",
   "execution_count": null,
   "metadata": {
    "colab": {
     "base_uri": "https://localhost:8080/",
     "height": 1000
    },
    "colab_type": "code",
    "executionInfo": {
     "elapsed": 118819,
     "status": "ok",
     "timestamp": 1595076053878,
     "user": {
      "displayName": "KARRI SRI SAI SOWMYA KARRI SRI SAI SOWMYA",
      "photoUrl": "",
      "userId": "10490912341868593376"
     },
     "user_tz": -330
    },
    "id": "JYYsWNZ1MfDE",
    "outputId": "a7611494-c23c-45d1-ac72-69745bfd5db2"
   },
   "outputs": [
    {
     "name": "stdout",
     "output_type": "stream",
     "text": [
      "Train on 1000 samples, validate on 251 samples\n",
      "Epoch 1/100\n",
      "1000/1000 [==============================] - 1s 1ms/step - loss: 40529.7490 - val_loss: 57582.6581\n",
      "Epoch 2/100\n",
      "1000/1000 [==============================] - 1s 970us/step - loss: 31669.1046 - val_loss: 52582.4088\n",
      "Epoch 3/100\n",
      "1000/1000 [==============================] - 1s 990us/step - loss: 28225.1785 - val_loss: 48437.1951\n",
      "Epoch 4/100\n",
      "1000/1000 [==============================] - 1s 969us/step - loss: 25434.8621 - val_loss: 44812.5693\n",
      "Epoch 5/100\n",
      "1000/1000 [==============================] - 1s 951us/step - loss: 22975.6682 - val_loss: 41527.9688\n",
      "Epoch 6/100\n",
      "1000/1000 [==============================] - 1s 947us/step - loss: 20772.6673 - val_loss: 38507.2002\n",
      "Epoch 7/100\n",
      "1000/1000 [==============================] - 1s 947us/step - loss: 18781.5743 - val_loss: 35717.0830\n",
      "Epoch 8/100\n",
      "1000/1000 [==============================] - 1s 949us/step - loss: 16977.6955 - val_loss: 33150.0860\n",
      "Epoch 9/100\n",
      "1000/1000 [==============================] - 1s 955us/step - loss: 15336.7411 - val_loss: 30778.0223\n",
      "Epoch 10/100\n",
      "1000/1000 [==============================] - 1s 965us/step - loss: 13842.9980 - val_loss: 28566.9018\n",
      "Epoch 11/100\n",
      "1000/1000 [==============================] - 1s 951us/step - loss: 12491.2403 - val_loss: 26520.9000\n",
      "Epoch 12/100\n",
      "1000/1000 [==============================] - 1s 950us/step - loss: 11269.2396 - val_loss: 24624.9000\n",
      "Epoch 13/100\n",
      "1000/1000 [==============================] - 1s 931us/step - loss: 10159.4267 - val_loss: 22870.7931\n",
      "Epoch 14/100\n",
      "1000/1000 [==============================] - 1s 966us/step - loss: 9156.6720 - val_loss: 21236.6102\n",
      "Epoch 15/100\n",
      "1000/1000 [==============================] - 1s 986us/step - loss: 8250.3748 - val_loss: 19736.1302\n",
      "Epoch 16/100\n",
      "1000/1000 [==============================] - 1s 945us/step - loss: 7438.3798 - val_loss: 18355.0133\n",
      "Epoch 17/100\n",
      "1000/1000 [==============================] - 1s 956us/step - loss: 6713.0572 - val_loss: 17056.0208\n",
      "Epoch 18/100\n",
      "1000/1000 [==============================] - 1s 967us/step - loss: 6060.9276 - val_loss: 15877.2976\n",
      "Epoch 19/100\n",
      "1000/1000 [==============================] - 1s 939us/step - loss: 5486.1670 - val_loss: 14793.6339\n",
      "Epoch 20/100\n",
      "1000/1000 [==============================] - 1s 975us/step - loss: 4975.3685 - val_loss: 13795.1591\n",
      "Epoch 21/100\n",
      "1000/1000 [==============================] - 1s 941us/step - loss: 4523.0198 - val_loss: 12870.6805\n",
      "Epoch 22/100\n",
      "1000/1000 [==============================] - 1s 927us/step - loss: 4124.1418 - val_loss: 12031.1461\n",
      "Epoch 23/100\n",
      "1000/1000 [==============================] - 1s 928us/step - loss: 3776.2507 - val_loss: 11262.9420\n",
      "Epoch 24/100\n",
      "1000/1000 [==============================] - 1s 963us/step - loss: 3471.3646 - val_loss: 10568.2045\n",
      "Epoch 25/100\n",
      "1000/1000 [==============================] - 1s 949us/step - loss: 3206.7650 - val_loss: 9928.5382\n",
      "Epoch 26/100\n",
      "1000/1000 [==============================] - 1s 960us/step - loss: 2978.9756 - val_loss: 9341.7944\n",
      "Epoch 27/100\n",
      "1000/1000 [==============================] - 1s 939us/step - loss: 2782.9553 - val_loss: 8810.4178\n",
      "Epoch 28/100\n",
      "1000/1000 [==============================] - 1s 938us/step - loss: 2614.7395 - val_loss: 8319.6447\n",
      "Epoch 29/100\n",
      "1000/1000 [==============================] - 1s 936us/step - loss: 2470.0031 - val_loss: 7893.6939\n",
      "Epoch 30/100\n",
      "1000/1000 [==============================] - 1s 957us/step - loss: 2348.2268 - val_loss: 7485.8413\n",
      "Epoch 31/100\n",
      "1000/1000 [==============================] - 1s 971us/step - loss: 2242.9547 - val_loss: 7127.7908\n",
      "Epoch 32/100\n",
      "1000/1000 [==============================] - 1s 936us/step - loss: 2158.5917 - val_loss: 6807.4408\n",
      "Epoch 33/100\n",
      "1000/1000 [==============================] - 1s 940us/step - loss: 2087.3707 - val_loss: 6523.8287\n",
      "Epoch 34/100\n",
      "1000/1000 [==============================] - 1s 949us/step - loss: 2026.4838 - val_loss: 6272.6754\n",
      "Epoch 35/100\n",
      "1000/1000 [==============================] - 1s 945us/step - loss: 1975.5564 - val_loss: 6025.5883\n",
      "Epoch 36/100\n",
      "1000/1000 [==============================] - 1s 949us/step - loss: 1932.4404 - val_loss: 5787.8875\n",
      "Epoch 37/100\n",
      "1000/1000 [==============================] - 1s 968us/step - loss: 1896.8944 - val_loss: 5598.7250\n",
      "Epoch 38/100\n",
      "1000/1000 [==============================] - 1s 1ms/step - loss: 1868.5671 - val_loss: 5426.5015\n",
      "Epoch 39/100\n",
      "1000/1000 [==============================] - 1s 983us/step - loss: 1846.0968 - val_loss: 5273.7390\n",
      "Epoch 40/100\n",
      "1000/1000 [==============================] - 1s 961us/step - loss: 1828.3903 - val_loss: 5141.3328\n",
      "Epoch 41/100\n",
      "1000/1000 [==============================] - 1s 968us/step - loss: 1813.2879 - val_loss: 5026.9376\n",
      "Epoch 42/100\n",
      "1000/1000 [==============================] - 1s 963us/step - loss: 1801.3885 - val_loss: 4896.4460\n",
      "Epoch 43/100\n",
      "1000/1000 [==============================] - 1s 946us/step - loss: 1790.8268 - val_loss: 4808.1948\n",
      "Epoch 44/100\n",
      "1000/1000 [==============================] - 1s 939us/step - loss: 1750.7151 - val_loss: 4802.4431\n",
      "Epoch 45/100\n",
      "1000/1000 [==============================] - 1s 936us/step - loss: 1137.3512 - val_loss: 4395.0157\n",
      "Epoch 46/100\n",
      "1000/1000 [==============================] - 1s 947us/step - loss: 956.0927 - val_loss: 4021.9805\n",
      "Epoch 47/100\n",
      "1000/1000 [==============================] - 1s 942us/step - loss: 851.8598 - val_loss: 3687.0882\n",
      "Epoch 48/100\n",
      "1000/1000 [==============================] - 1s 982us/step - loss: 764.5251 - val_loss: 3401.0239\n",
      "Epoch 49/100\n",
      "1000/1000 [==============================] - 1s 996us/step - loss: 692.5942 - val_loss: 3158.1674\n",
      "Epoch 50/100\n",
      "1000/1000 [==============================] - 1s 942us/step - loss: 630.1914 - val_loss: 2932.6539\n",
      "Epoch 51/100\n",
      "1000/1000 [==============================] - 1s 949us/step - loss: 575.3413 - val_loss: 2709.7981\n",
      "Epoch 52/100\n",
      "1000/1000 [==============================] - 1s 974us/step - loss: 527.9294 - val_loss: 2527.2281\n",
      "Epoch 53/100\n",
      "1000/1000 [==============================] - 1s 1ms/step - loss: 488.2663 - val_loss: 2364.6387\n",
      "Epoch 54/100\n",
      "1000/1000 [==============================] - 1s 977us/step - loss: 455.9255 - val_loss: 2217.0772\n",
      "Epoch 55/100\n",
      "1000/1000 [==============================] - 1s 959us/step - loss: 426.0748 - val_loss: 2088.7181\n",
      "Epoch 56/100\n",
      "1000/1000 [==============================] - 1s 948us/step - loss: 399.6459 - val_loss: 1967.5816\n",
      "Epoch 57/100\n",
      "1000/1000 [==============================] - 1s 949us/step - loss: 378.5928 - val_loss: 1856.0432\n",
      "Epoch 58/100\n",
      "1000/1000 [==============================] - 1s 958us/step - loss: 355.8910 - val_loss: 1757.1351\n",
      "Epoch 59/100\n",
      "1000/1000 [==============================] - 1s 929us/step - loss: 337.2613 - val_loss: 1658.3812\n",
      "Epoch 60/100\n",
      "1000/1000 [==============================] - 1s 938us/step - loss: 319.6516 - val_loss: 1583.7562\n",
      "Epoch 61/100\n",
      "1000/1000 [==============================] - 1s 1ms/step - loss: 305.1147 - val_loss: 1489.2760\n",
      "Epoch 62/100\n",
      "1000/1000 [==============================] - 1s 977us/step - loss: 289.9626 - val_loss: 1417.1813\n",
      "Epoch 63/100\n",
      "1000/1000 [==============================] - 1s 982us/step - loss: 276.7709 - val_loss: 1336.2362\n",
      "Epoch 64/100\n",
      "1000/1000 [==============================] - 1s 965us/step - loss: 264.3528 - val_loss: 1267.8627\n",
      "Epoch 65/100\n",
      "1000/1000 [==============================] - 1s 991us/step - loss: 249.3303 - val_loss: 1199.2810\n",
      "Epoch 66/100\n",
      "1000/1000 [==============================] - 1s 1ms/step - loss: 239.7488 - val_loss: 1142.5740\n",
      "Epoch 67/100\n",
      "1000/1000 [==============================] - 1s 965us/step - loss: 225.6090 - val_loss: 1086.2504\n",
      "Epoch 68/100\n",
      "1000/1000 [==============================] - 1s 952us/step - loss: 217.0595 - val_loss: 1031.9113\n",
      "Epoch 69/100\n",
      "1000/1000 [==============================] - 1s 970us/step - loss: 206.1700 - val_loss: 972.4505\n",
      "Epoch 70/100\n",
      "1000/1000 [==============================] - 1s 979us/step - loss: 195.7997 - val_loss: 929.6720\n",
      "Epoch 71/100\n",
      "1000/1000 [==============================] - 1s 982us/step - loss: 186.1944 - val_loss: 871.4594\n",
      "Epoch 72/100\n",
      "1000/1000 [==============================] - 1s 983us/step - loss: 177.9723 - val_loss: 829.2002\n",
      "Epoch 73/100\n",
      "1000/1000 [==============================] - 1s 937us/step - loss: 167.0415 - val_loss: 784.7390\n",
      "Epoch 74/100\n",
      "1000/1000 [==============================] - 1s 971us/step - loss: 157.8903 - val_loss: 786.1148\n",
      "Epoch 75/100\n",
      "1000/1000 [==============================] - 1s 981us/step - loss: 153.9327 - val_loss: 709.3833\n",
      "Epoch 76/100\n",
      "1000/1000 [==============================] - 1s 976us/step - loss: 144.2061 - val_loss: 658.6160\n",
      "Epoch 77/100\n",
      "1000/1000 [==============================] - 1s 974us/step - loss: 139.1227 - val_loss: 645.5891\n",
      "Epoch 78/100\n",
      "1000/1000 [==============================] - 1s 953us/step - loss: 132.2210 - val_loss: 588.2466\n",
      "Epoch 79/100\n",
      "1000/1000 [==============================] - 1s 942us/step - loss: 126.3806 - val_loss: 558.4818\n",
      "Epoch 80/100\n",
      "1000/1000 [==============================] - 1s 953us/step - loss: 119.9696 - val_loss: 532.9929\n",
      "Epoch 81/100\n",
      "1000/1000 [==============================] - 1s 963us/step - loss: 117.2011 - val_loss: 505.6636\n",
      "Epoch 82/100\n",
      "1000/1000 [==============================] - 1s 935us/step - loss: 113.7074 - val_loss: 478.1567\n",
      "Epoch 83/100\n",
      "1000/1000 [==============================] - 1s 966us/step - loss: 115.9171 - val_loss: 468.7788\n",
      "Epoch 84/100\n",
      "1000/1000 [==============================] - 1s 955us/step - loss: 106.5827 - val_loss: 439.2910\n",
      "Epoch 85/100\n",
      "1000/1000 [==============================] - 1s 1ms/step - loss: 100.6744 - val_loss: 428.8242\n",
      "Epoch 86/100\n",
      "1000/1000 [==============================] - 1s 941us/step - loss: 96.7663 - val_loss: 414.3603\n",
      "Epoch 87/100\n",
      "1000/1000 [==============================] - 1s 988us/step - loss: 102.3813 - val_loss: 387.6464\n",
      "Epoch 88/100\n",
      "1000/1000 [==============================] - 1s 991us/step - loss: 91.4952 - val_loss: 374.3266\n",
      "Epoch 89/100\n",
      "1000/1000 [==============================] - 1s 954us/step - loss: 89.2456 - val_loss: 349.9145\n",
      "Epoch 90/100\n",
      "1000/1000 [==============================] - 1s 971us/step - loss: 84.7769 - val_loss: 340.3229\n",
      "Epoch 91/100\n",
      "1000/1000 [==============================] - 1s 935us/step - loss: 83.5593 - val_loss: 331.6027\n",
      "Epoch 92/100\n",
      "1000/1000 [==============================] - 1s 956us/step - loss: 81.1428 - val_loss: 310.3020\n",
      "Epoch 93/100\n",
      "1000/1000 [==============================] - 1s 963us/step - loss: 74.8527 - val_loss: 378.6873\n",
      "Epoch 94/100\n",
      "1000/1000 [==============================] - 1s 930us/step - loss: 87.6156 - val_loss: 290.2687\n",
      "Epoch 95/100\n",
      "1000/1000 [==============================] - 1s 970us/step - loss: 73.6817 - val_loss: 275.0950\n",
      "Epoch 96/100\n",
      "1000/1000 [==============================] - 1s 995us/step - loss: 70.4434 - val_loss: 271.2256\n",
      "Epoch 97/100\n",
      "1000/1000 [==============================] - 1s 965us/step - loss: 69.3070 - val_loss: 276.0221\n",
      "Epoch 98/100\n",
      "1000/1000 [==============================] - 1s 1ms/step - loss: 71.2594 - val_loss: 262.4142\n",
      "Epoch 99/100\n",
      "1000/1000 [==============================] - 1s 1ms/step - loss: 66.7246 - val_loss: 238.2826\n",
      "Epoch 100/100\n",
      "1000/1000 [==============================] - 1s 972us/step - loss: 63.3144 - val_loss: 248.4313\n"
     ]
    }
   ],
   "source": [
    "history = model.fit(X_train_sc,y_train,epochs=100,validation_data=(X_test_sc,y_test))"
   ]
  },
  {
   "cell_type": "code",
   "execution_count": null,
   "metadata": {
    "colab": {
     "base_uri": "https://localhost:8080/",
     "height": 285
    },
    "colab_type": "code",
    "executionInfo": {
     "elapsed": 118813,
     "status": "ok",
     "timestamp": 1595076053882,
     "user": {
      "displayName": "KARRI SRI SAI SOWMYA KARRI SRI SAI SOWMYA",
      "photoUrl": "",
      "userId": "10490912341868593376"
     },
     "user_tz": -330
    },
    "id": "rNF-KH9HYdip",
    "outputId": "189d2d37-f25a-4906-e417-268c7639239a"
   },
   "outputs": [
    {
     "data": {
      "text/plain": [
       "[<matplotlib.lines.Line2D at 0x7fcb407e8320>]"
      ]
     },
     "execution_count": 27,
     "metadata": {
      "tags": []
     },
     "output_type": "execute_result"
    },
    {
     "data": {
      "image/png": "[encoded data removed]",
      "text/plain": [
       "<Figure size 432x288 with 1 Axes>"
      ]
     },
     "metadata": {
      "needs_background": "light",
      "tags": []
     },
     "output_type": "display_data"
    }
   ],
   "source": [
    "tr_loss = history.history['loss']\n",
    "val_loss = history.history['val_loss']\n",
    "ep = list(range(1,101))\n",
    "plt.plot(ep,tr_loss,color='r')\n",
    "plt.plot(ep,val_loss,color='b')"
   ]
  },
  {
   "cell_type": "code",
   "execution_count": null,
   "metadata": {
    "colab": {
     "base_uri": "https://localhost:8080/",
     "height": 1000
    },
    "colab_type": "code",
    "executionInfo": {
     "elapsed": 118805,
     "status": "ok",
     "timestamp": 1595076053882,
     "user": {
      "displayName": "KARRI SRI SAI SOWMYA KARRI SRI SAI SOWMYA",
      "photoUrl": "",
      "userId": "10490912341868593376"
     },
     "user_tz": -330
    },
    "id": "3OOZvEjrZFYq",
    "outputId": "9430529b-327b-44d0-ea09-5d49621da95f"
   },
   "outputs": [
    {
     "data": {
      "text/plain": [
       "array([[220.96243],\n",
       "       [222.83783],\n",
       "       [225.27626],\n",
       "       [228.4083 ],\n",
       "       [232.56506],\n",
       "       [237.5485 ],\n",
       "       [242.4446 ],\n",
       "       [244.85307],\n",
       "       [246.31473],\n",
       "       [246.1149 ],\n",
       "       [245.48233],\n",
       "       [245.60196],\n",
       "       [246.1803 ],\n",
       "       [246.86469],\n",
       "       [248.21461],\n",
       "       [249.71176],\n",
       "       [248.64536],\n",
       "       [247.18124],\n",
       "       [246.75523],\n",
       "       [246.79361],\n",
       "       [244.91943],\n",
       "       [242.12589],\n",
       "       [239.32593],\n",
       "       [237.39534],\n",
       "       [235.05438],\n",
       "       [233.1232 ],\n",
       "       [231.66731],\n",
       "       [230.28668],\n",
       "       [229.14236],\n",
       "       [229.01083],\n",
       "       [228.88116],\n",
       "       [229.40344],\n",
       "       [229.02083],\n",
       "       [226.52832],\n",
       "       [222.33783],\n",
       "       [217.67389],\n",
       "       [215.4135 ],\n",
       "       [215.91624],\n",
       "       [217.4412 ],\n",
       "       [219.2593 ],\n",
       "       [220.29639],\n",
       "       [220.84544],\n",
       "       [221.35762],\n",
       "       [222.24731],\n",
       "       [223.51   ],\n",
       "       [224.95355],\n",
       "       [226.10886],\n",
       "       [227.77753],\n",
       "       [229.30386],\n",
       "       [230.39915],\n",
       "       [230.88925],\n",
       "       [231.17252],\n",
       "       [232.03188],\n",
       "       [232.93199],\n",
       "       [233.5445 ],\n",
       "       [235.1204 ],\n",
       "       [237.18283],\n",
       "       [239.8848 ],\n",
       "       [242.52058],\n",
       "       [243.11137],\n",
       "       [243.2005 ],\n",
       "       [242.73053],\n",
       "       [243.0476 ],\n",
       "       [243.49771],\n",
       "       [243.21667],\n",
       "       [243.83173],\n",
       "       [245.12152],\n",
       "       [243.63184],\n",
       "       [239.65305],\n",
       "       [237.0954 ],\n",
       "       [237.61957],\n",
       "       [238.69678],\n",
       "       [240.57394],\n",
       "       [241.9675 ],\n",
       "       [242.5402 ],\n",
       "       [245.72159],\n",
       "       [251.99825],\n",
       "       [256.86578],\n",
       "       [260.0182 ],\n",
       "       [261.8867 ],\n",
       "       [262.32227],\n",
       "       [262.40936],\n",
       "       [262.58328],\n",
       "       [262.9331 ],\n",
       "       [263.1208 ],\n",
       "       [263.216  ],\n",
       "       [263.22443],\n",
       "       [263.1855 ],\n",
       "       [263.18475],\n",
       "       [263.1947 ],\n",
       "       [263.0939 ],\n",
       "       [262.75665],\n",
       "       [262.86438],\n",
       "       [263.17358],\n",
       "       [263.1971 ],\n",
       "       [263.15723],\n",
       "       [263.0557 ],\n",
       "       [262.8579 ],\n",
       "       [262.66916],\n",
       "       [262.76035],\n",
       "       [262.74866],\n",
       "       [262.6842 ],\n",
       "       [262.5112 ],\n",
       "       [262.37592],\n",
       "       [262.45813],\n",
       "       [262.49768],\n",
       "       [262.57758],\n",
       "       [262.4865 ],\n",
       "       [262.6224 ],\n",
       "       [262.86642],\n",
       "       [263.25296],\n",
       "       [263.4067 ],\n",
       "       [263.49878],\n",
       "       [263.5669 ],\n",
       "       [263.6105 ],\n",
       "       [263.6398 ],\n",
       "       [263.64508],\n",
       "       [263.6552 ],\n",
       "       [263.66553],\n",
       "       [263.664  ],\n",
       "       [263.66852],\n",
       "       [263.66656],\n",
       "       [263.65973],\n",
       "       [263.64435],\n",
       "       [263.63205],\n",
       "       [263.63318],\n",
       "       [263.63425],\n",
       "       [263.62933],\n",
       "       [263.61664],\n",
       "       [263.6101 ],\n",
       "       [263.61865],\n",
       "       [263.6191 ],\n",
       "       [263.5855 ],\n",
       "       [263.511  ],\n",
       "       [263.5015 ],\n",
       "       [263.53635],\n",
       "       [263.55762],\n",
       "       [263.54068],\n",
       "       [263.49414],\n",
       "       [263.404  ],\n",
       "       [263.37036],\n",
       "       [263.38055],\n",
       "       [263.38245],\n",
       "       [263.28882],\n",
       "       [263.24597],\n",
       "       [263.21277],\n",
       "       [263.1682 ],\n",
       "       [262.90244],\n",
       "       [259.83765],\n",
       "       [252.37234],\n",
       "       [249.11642],\n",
       "       [247.44278],\n",
       "       [247.8789 ],\n",
       "       [249.37589],\n",
       "       [250.0527 ],\n",
       "       [250.37526],\n",
       "       [250.55222],\n",
       "       [252.46826],\n",
       "       [255.82718],\n",
       "       [258.93228],\n",
       "       [260.21124],\n",
       "       [258.80853],\n",
       "       [257.66772],\n",
       "       [256.89984],\n",
       "       [254.24579],\n",
       "       [252.5112 ],\n",
       "       [251.42268],\n",
       "       [251.78357],\n",
       "       [253.79276],\n",
       "       [256.7683 ],\n",
       "       [259.47626],\n",
       "       [261.297  ],\n",
       "       [262.1099 ],\n",
       "       [262.3437 ],\n",
       "       [262.11832],\n",
       "       [262.1764 ],\n",
       "       [261.98746],\n",
       "       [261.87885],\n",
       "       [261.91925],\n",
       "       [261.75168],\n",
       "       [261.93335],\n",
       "       [262.27536],\n",
       "       [262.4419 ],\n",
       "       [262.8012 ],\n",
       "       [263.0642 ],\n",
       "       [263.19427],\n",
       "       [263.37183],\n",
       "       [263.48312],\n",
       "       [263.53607],\n",
       "       [263.57416],\n",
       "       [263.58932],\n",
       "       [263.6133 ],\n",
       "       [263.61862],\n",
       "       [263.6145 ],\n",
       "       [263.59686],\n",
       "       [263.57556],\n",
       "       [263.5182 ],\n",
       "       [263.2665 ],\n",
       "       [262.0233 ],\n",
       "       [261.8791 ],\n",
       "       [262.02875],\n",
       "       [262.4494 ],\n",
       "       [262.38513],\n",
       "       [262.43515],\n",
       "       [262.58533],\n",
       "       [263.05804],\n",
       "       [263.30048],\n",
       "       [263.45697],\n",
       "       [263.5238 ],\n",
       "       [263.54254],\n",
       "       [263.57465],\n",
       "       [263.58762],\n",
       "       [263.57245],\n",
       "       [263.50214],\n",
       "       [263.42505],\n",
       "       [263.41925],\n",
       "       [263.4497 ],\n",
       "       [263.4489 ],\n",
       "       [263.4222 ],\n",
       "       [263.37787],\n",
       "       [263.3766 ],\n",
       "       [263.44208],\n",
       "       [263.46143],\n",
       "       [263.4436 ],\n",
       "       [263.3694 ],\n",
       "       [263.3192 ],\n",
       "       [263.35254],\n",
       "       [263.3711 ],\n",
       "       [263.38794],\n",
       "       [263.4383 ],\n",
       "       [263.4598 ],\n",
       "       [263.46234],\n",
       "       [263.44666],\n",
       "       [263.42664],\n",
       "       [263.45074],\n",
       "       [263.5376 ],\n",
       "       [263.59412],\n",
       "       [263.63837],\n",
       "       [263.66925],\n",
       "       [263.6887 ],\n",
       "       [263.70782],\n",
       "       [263.71817],\n",
       "       [263.72333],\n",
       "       [263.72775],\n",
       "       [263.7347 ],\n",
       "       [263.742  ],\n",
       "       [263.74542],\n",
       "       [263.75165],\n",
       "       [263.75616],\n",
       "       [263.7586 ],\n",
       "       [263.75946]], dtype=float32)"
      ]
     },
     "execution_count": 28,
     "metadata": {
      "tags": []
     },
     "output_type": "execute_result"
    }
   ],
   "source": [
    "model.predict(X_test_sc)"
   ]
  },
  {
   "cell_type": "code",
   "execution_count": null,
   "metadata": {
    "colab": {
     "base_uri": "https://localhost:8080/",
     "height": 282
    },
    "colab_type": "code",
    "executionInfo": {
     "elapsed": 120252,
     "status": "ok",
     "timestamp": 1595076055337,
     "user": {
      "displayName": "KARRI SRI SAI SOWMYA KARRI SRI SAI SOWMYA",
      "photoUrl": "",
      "userId": "10490912341868593376"
     },
     "user_tz": -330
    },
    "id": "cZazbwoqZfgU",
    "outputId": "88ec4d94-5a33-40eb-b973-9be7fb47a6c9"
   },
   "outputs": [
    {
     "data": {
      "text/plain": [
       "[<matplotlib.lines.Line2D at 0x7fcb4077cfd0>]"
      ]
     },
     "execution_count": 29,
     "metadata": {
      "tags": []
     },
     "output_type": "execute_result"
    },
    {
     "data": {
      "image/png": "[encoded data removed]",
      "text/plain": [
       "<Figure size 432x288 with 1 Axes>"
      ]
     },
     "metadata": {
      "needs_background": "light",
      "tags": []
     },
     "output_type": "display_data"
    }
   ],
   "source": [
    "plt.plot(range(len(X_test_sc)),model.predict(X_test_sc).flat)\n",
    "plt.plot(range(len(X_test_sc)),y_test)"
   ]
  },
  {
   "cell_type": "code",
   "execution_count": null,
   "metadata": {
    "colab": {
     "base_uri": "https://localhost:8080/",
     "height": 134
    },
    "colab_type": "code",
    "executionInfo": {
     "elapsed": 120245,
     "status": "ok",
     "timestamp": 1595076055338,
     "user": {
      "displayName": "KARRI SRI SAI SOWMYA KARRI SRI SAI SOWMYA",
      "photoUrl": "",
      "userId": "10490912341868593376"
     },
     "user_tz": -330
    },
    "id": "h74LtriKZhhp",
    "outputId": "539848a2-f4e9-425f-f81b-efc334ef388c"
   },
   "outputs": [
    {
     "data": {
      "text/plain": [
       "array([[[0.33250006],\n",
       "        [0.32609397],\n",
       "        [0.40247429],\n",
       "        [0.45065217],\n",
       "        [0.52973531],\n",
       "        [0.66566974],\n",
       "        [1.01958876]]])"
      ]
     },
     "execution_count": 30,
     "metadata": {
      "tags": []
     },
     "output_type": "execute_result"
    }
   ],
   "source": [
    "X_test_sc[0].reshape(1,7,1)"
   ]
  },
  {
   "cell_type": "code",
   "execution_count": null,
   "metadata": {
    "colab": {
     "base_uri": "https://localhost:8080/",
     "height": 34
    },
    "colab_type": "code",
    "executionInfo": {
     "elapsed": 120239,
     "status": "ok",
     "timestamp": 1595076055339,
     "user": {
      "displayName": "KARRI SRI SAI SOWMYA KARRI SRI SAI SOWMYA",
      "photoUrl": "",
      "userId": "10490912341868593376"
     },
     "user_tz": -330
    },
    "id": "3VolYQoFZmBh",
    "outputId": "dec8eacf-7cd9-4a8b-f8f1-55492aad85a9"
   },
   "outputs": [
    {
     "data": {
      "text/plain": [
       "array([[220.9624]], dtype=float32)"
      ]
     },
     "execution_count": 31,
     "metadata": {
      "tags": []
     },
     "output_type": "execute_result"
    }
   ],
   "source": [
    "model.predict(X_test_sc[0].reshape(1,7,1))"
   ]
  },
  {
   "cell_type": "code",
   "execution_count": null,
   "metadata": {
    "colab": {
     "base_uri": "https://localhost:8080/",
     "height": 34
    },
    "colab_type": "code",
    "executionInfo": {
     "elapsed": 120231,
     "status": "ok",
     "timestamp": 1595076055339,
     "user": {
      "displayName": "KARRI SRI SAI SOWMYA KARRI SRI SAI SOWMYA",
      "photoUrl": "",
      "userId": "10490912341868593376"
     },
     "user_tz": -330
    },
    "id": "BhrM6fY-ZpVD",
    "outputId": "23aca30a-9fc1-4c31-f562-95b9a66b7a3f"
   },
   "outputs": [
    {
     "data": {
      "text/plain": [
       "247.43"
      ]
     },
     "execution_count": 32,
     "metadata": {
      "tags": []
     },
     "output_type": "execute_result"
    }
   ],
   "source": [
    "y_test[1000]"
   ]
  },
  {
   "cell_type": "markdown",
   "metadata": {
    "colab_type": "text",
    "id": "hwAnnF18x9BC"
   },
   "source": [
    "### Create a Model"
   ]
  },
  {
   "cell_type": "code",
   "execution_count": null,
   "metadata": {
    "colab": {
     "base_uri": "https://localhost:8080/",
     "height": 252
    },
    "colab_type": "code",
    "executionInfo": {
     "elapsed": 120223,
     "status": "ok",
     "timestamp": 1595076055340,
     "user": {
      "displayName": "KARRI SRI SAI SOWMYA KARRI SRI SAI SOWMYA",
      "photoUrl": "",
      "userId": "10490912341868593376"
     },
     "user_tz": -330
    },
    "id": "xbK0gEL-ZraI",
    "outputId": "2fca71ad-cb72-46a0-c551-fe60ad8f9088"
   },
   "outputs": [
    {
     "name": "stdout",
     "output_type": "stream",
     "text": [
      "Model: \"sequential_2\"\n",
      "_________________________________________________________________\n",
      "Layer (type)                 Output Shape              Param #   \n",
      "=================================================================\n",
      "lstm_2 (LSTM)                (None, 256)               264192    \n",
      "_________________________________________________________________\n",
      "dropout_1 (Dropout)          (None, 256)               0         \n",
      "_________________________________________________________________\n",
      "dense_2 (Dense)              (None, 1)                 257       \n",
      "=================================================================\n",
      "Total params: 264,449\n",
      "Trainable params: 264,449\n",
      "Non-trainable params: 0\n",
      "_________________________________________________________________\n"
     ]
    }
   ],
   "source": [
    "from keras.models import Sequential\n",
    "from keras.layers import Dense,Dropout,LSTM\n",
    "model2 = Sequential()\n",
    "# 256 cels\n",
    "model2.add(LSTM(256,input_shape=(7,1)))\n",
    "model2.add(Dropout(0.3))\n",
    "# single neuron\n",
    "model2.add(Dense(1))\n",
    "model2.summary()"
   ]
  },
  {
   "cell_type": "markdown",
   "metadata": {
    "colab_type": "text",
    "id": "aFYV_BGqyFyK"
   },
   "source": [
    "### Compile the model with the proper optimizer and loss"
   ]
  },
  {
   "cell_type": "code",
   "execution_count": null,
   "metadata": {
    "colab": {},
    "colab_type": "code",
    "id": "k7NhUqXPZwOH"
   },
   "outputs": [],
   "source": [
    "model2.compile(optimizer='adam',loss='mse')"
   ]
  },
  {
   "cell_type": "code",
   "execution_count": null,
   "metadata": {
    "colab": {
     "base_uri": "https://localhost:8080/",
     "height": 1000
    },
    "colab_type": "code",
    "executionInfo": {
     "elapsed": 223949,
     "status": "ok",
     "timestamp": 1595076159079,
     "user": {
      "displayName": "KARRI SRI SAI SOWMYA KARRI SRI SAI SOWMYA",
      "photoUrl": "",
      "userId": "10490912341868593376"
     },
     "user_tz": -330
    },
    "id": "lp7YT_TBZzUO",
    "outputId": "8d5dde81-3f65-4643-af08-d35357fee88d"
   },
   "outputs": [
    {
     "name": "stdout",
     "output_type": "stream",
     "text": [
      "Train on 1000 samples, validate on 251 samples\n",
      "Epoch 1/100\n",
      "1000/1000 [==============================] - 1s 1ms/step - loss: 40736.7879 - val_loss: 58964.0595\n",
      "Epoch 2/100\n",
      "1000/1000 [==============================] - 1s 943us/step - loss: 32910.7373 - val_loss: 54327.9435\n",
      "Epoch 3/100\n",
      "1000/1000 [==============================] - 1s 953us/step - loss: 29643.1978 - val_loss: 50470.8895\n",
      "Epoch 4/100\n",
      "1000/1000 [==============================] - 1s 950us/step - loss: 26990.0906 - val_loss: 47001.6099\n",
      "Epoch 5/100\n",
      "1000/1000 [==============================] - 1s 952us/step - loss: 24582.0521 - val_loss: 43857.5317\n",
      "Epoch 6/100\n",
      "1000/1000 [==============================] - 1s 951us/step - loss: 22481.2649 - val_loss: 40965.3275\n",
      "Epoch 7/100\n",
      "1000/1000 [==============================] - 1s 997us/step - loss: 20510.0483 - val_loss: 38274.5126\n",
      "Epoch 8/100\n",
      "1000/1000 [==============================] - 1s 948us/step - loss: 18740.0681 - val_loss: 35767.5743\n",
      "Epoch 9/100\n",
      "1000/1000 [==============================] - 1s 960us/step - loss: 17061.5959 - val_loss: 33447.9267\n",
      "Epoch 10/100\n",
      "1000/1000 [==============================] - 1s 940us/step - loss: 15589.5134 - val_loss: 31264.6776\n",
      "Epoch 11/100\n",
      "1000/1000 [==============================] - 1s 973us/step - loss: 14235.1744 - val_loss: 29225.0317\n",
      "Epoch 12/100\n",
      "1000/1000 [==============================] - 1s 962us/step - loss: 13012.0150 - val_loss: 27330.8290\n",
      "Epoch 13/100\n",
      "1000/1000 [==============================] - 1s 1ms/step - loss: 11829.2795 - val_loss: 25493.0245\n",
      "Epoch 14/100\n",
      "1000/1000 [==============================] - 2s 2ms/step - loss: 10712.4745 - val_loss: 23813.1881\n",
      "Epoch 15/100\n",
      "1000/1000 [==============================] - 2s 2ms/step - loss: 9738.3968 - val_loss: 22240.8546\n",
      "Epoch 16/100\n",
      "1000/1000 [==============================] - 2s 2ms/step - loss: 8884.3053 - val_loss: 20805.8879\n",
      "Epoch 17/100\n",
      "1000/1000 [==============================] - 2s 2ms/step - loss: 8037.4284 - val_loss: 19451.2122\n",
      "Epoch 18/100\n",
      "1000/1000 [==============================] - 2s 2ms/step - loss: 7331.5417 - val_loss: 18218.1903\n",
      "Epoch 19/100\n",
      "1000/1000 [==============================] - 2s 2ms/step - loss: 6758.1053 - val_loss: 17032.7873\n",
      "Epoch 20/100\n",
      "1000/1000 [==============================] - 1s 966us/step - loss: 6065.9669 - val_loss: 15925.7690\n",
      "Epoch 21/100\n",
      "1000/1000 [==============================] - 1s 991us/step - loss: 5567.1634 - val_loss: 14907.8558\n",
      "Epoch 22/100\n",
      "1000/1000 [==============================] - 1s 991us/step - loss: 5113.2782 - val_loss: 13960.7323\n",
      "Epoch 23/100\n",
      "1000/1000 [==============================] - 1s 1ms/step - loss: 4689.7885 - val_loss: 13107.7854\n",
      "Epoch 24/100\n",
      "1000/1000 [==============================] - 1s 959us/step - loss: 4305.6152 - val_loss: 12312.6846\n",
      "Epoch 25/100\n",
      "1000/1000 [==============================] - 1s 999us/step - loss: 3954.3833 - val_loss: 11574.6100\n",
      "Epoch 26/100\n",
      "1000/1000 [==============================] - 1s 951us/step - loss: 3654.1594 - val_loss: 10901.1499\n",
      "Epoch 27/100\n",
      "1000/1000 [==============================] - 1s 979us/step - loss: 3430.2511 - val_loss: 10285.8187\n",
      "Epoch 28/100\n",
      "1000/1000 [==============================] - 1s 959us/step - loss: 3191.9996 - val_loss: 9717.2386\n",
      "Epoch 29/100\n",
      "1000/1000 [==============================] - 1s 952us/step - loss: 3001.4888 - val_loss: 9196.3292\n",
      "Epoch 30/100\n",
      "1000/1000 [==============================] - 1s 972us/step - loss: 2815.3235 - val_loss: 8733.6669\n",
      "Epoch 31/100\n",
      "1000/1000 [==============================] - 1s 959us/step - loss: 2668.1275 - val_loss: 8306.7623\n",
      "Epoch 32/100\n",
      "1000/1000 [==============================] - 1s 1ms/step - loss: 2515.1763 - val_loss: 7907.4832\n",
      "Epoch 33/100\n",
      "1000/1000 [==============================] - 1s 962us/step - loss: 2456.9342 - val_loss: 7525.2011\n",
      "Epoch 34/100\n",
      "1000/1000 [==============================] - 1s 1ms/step - loss: 2290.5830 - val_loss: 7192.9127\n",
      "Epoch 35/100\n",
      "1000/1000 [==============================] - 1s 1ms/step - loss: 2233.5716 - val_loss: 6885.5181\n",
      "Epoch 36/100\n",
      "1000/1000 [==============================] - 1s 969us/step - loss: 2195.1419 - val_loss: 6604.8471\n",
      "Epoch 37/100\n",
      "1000/1000 [==============================] - 1s 1000us/step - loss: 2145.4790 - val_loss: 6373.4682\n",
      "Epoch 38/100\n",
      "1000/1000 [==============================] - 1s 949us/step - loss: 2065.8379 - val_loss: 6133.2489\n",
      "Epoch 39/100\n",
      "1000/1000 [==============================] - 1s 985us/step - loss: 2045.7185 - val_loss: 5925.4451\n",
      "Epoch 40/100\n",
      "1000/1000 [==============================] - 1s 1ms/step - loss: 2008.7804 - val_loss: 5746.1925\n",
      "Epoch 41/100\n",
      "1000/1000 [==============================] - 1s 991us/step - loss: 1924.7091 - val_loss: 5578.6174\n",
      "Epoch 42/100\n",
      "1000/1000 [==============================] - 1s 959us/step - loss: 1936.3475 - val_loss: 5424.8467\n",
      "Epoch 43/100\n",
      "1000/1000 [==============================] - 1s 948us/step - loss: 1882.6960 - val_loss: 5281.6982\n",
      "Epoch 44/100\n",
      "1000/1000 [==============================] - 1s 977us/step - loss: 1873.4063 - val_loss: 5164.4591\n",
      "Epoch 45/100\n",
      "1000/1000 [==============================] - 1s 938us/step - loss: 1572.0136 - val_loss: 4895.0530\n",
      "Epoch 46/100\n",
      "1000/1000 [==============================] - 1s 957us/step - loss: 1182.3177 - val_loss: 4500.4849\n",
      "Epoch 47/100\n",
      "1000/1000 [==============================] - 1s 953us/step - loss: 1072.4756 - val_loss: 4145.9551\n",
      "Epoch 48/100\n",
      "1000/1000 [==============================] - 1s 975us/step - loss: 939.5671 - val_loss: 3815.2622\n",
      "Epoch 49/100\n",
      "1000/1000 [==============================] - 1s 951us/step - loss: 846.3358 - val_loss: 3500.7559\n",
      "Epoch 50/100\n",
      "1000/1000 [==============================] - 1s 998us/step - loss: 787.1552 - val_loss: 3236.9632\n",
      "Epoch 51/100\n",
      "1000/1000 [==============================] - 1s 958us/step - loss: 722.9429 - val_loss: 3005.5581\n",
      "Epoch 52/100\n",
      "1000/1000 [==============================] - 1s 958us/step - loss: 674.1789 - val_loss: 2810.5723\n",
      "Epoch 53/100\n",
      "1000/1000 [==============================] - 1s 983us/step - loss: 622.3184 - val_loss: 2620.6277\n",
      "Epoch 54/100\n",
      "1000/1000 [==============================] - 1s 944us/step - loss: 584.0236 - val_loss: 2460.1277\n",
      "Epoch 55/100\n",
      "1000/1000 [==============================] - 1s 965us/step - loss: 564.2823 - val_loss: 2318.9221\n",
      "Epoch 56/100\n",
      "1000/1000 [==============================] - 1s 941us/step - loss: 520.3419 - val_loss: 2195.2653\n",
      "Epoch 57/100\n",
      "1000/1000 [==============================] - 1s 958us/step - loss: 498.3482 - val_loss: 2071.6745\n",
      "Epoch 58/100\n",
      "1000/1000 [==============================] - 1s 959us/step - loss: 494.2729 - val_loss: 1961.9115\n",
      "Epoch 59/100\n",
      "1000/1000 [==============================] - 1s 1ms/step - loss: 450.2002 - val_loss: 1861.4439\n",
      "Epoch 60/100\n",
      "1000/1000 [==============================] - 1s 1ms/step - loss: 431.5862 - val_loss: 1766.8712\n",
      "Epoch 61/100\n",
      "1000/1000 [==============================] - 1s 967us/step - loss: 402.0481 - val_loss: 1685.3222\n",
      "Epoch 62/100\n",
      "1000/1000 [==============================] - 1s 1ms/step - loss: 404.2827 - val_loss: 1563.3729\n",
      "Epoch 63/100\n",
      "1000/1000 [==============================] - 1s 944us/step - loss: 380.9121 - val_loss: 1480.7513\n",
      "Epoch 64/100\n",
      "1000/1000 [==============================] - 1s 954us/step - loss: 357.5372 - val_loss: 1411.8885\n",
      "Epoch 65/100\n",
      "1000/1000 [==============================] - 1s 947us/step - loss: 348.5102 - val_loss: 1339.3079\n",
      "Epoch 66/100\n",
      "1000/1000 [==============================] - 1s 980us/step - loss: 353.2700 - val_loss: 1246.0630\n",
      "Epoch 67/100\n",
      "1000/1000 [==============================] - 1s 952us/step - loss: 311.0905 - val_loss: 1172.0791\n",
      "Epoch 68/100\n",
      "1000/1000 [==============================] - 1s 999us/step - loss: 327.1687 - val_loss: 1131.5226\n",
      "Epoch 69/100\n",
      "1000/1000 [==============================] - 1s 975us/step - loss: 305.1452 - val_loss: 1052.3985\n",
      "Epoch 70/100\n",
      "1000/1000 [==============================] - 1s 954us/step - loss: 313.1676 - val_loss: 1007.3801\n",
      "Epoch 71/100\n",
      "1000/1000 [==============================] - 1s 949us/step - loss: 290.4295 - val_loss: 947.4368\n",
      "Epoch 72/100\n",
      "1000/1000 [==============================] - 1s 959us/step - loss: 292.1476 - val_loss: 886.8665\n",
      "Epoch 73/100\n",
      "1000/1000 [==============================] - 1s 962us/step - loss: 266.1206 - val_loss: 847.4266\n",
      "Epoch 74/100\n",
      "1000/1000 [==============================] - 1s 960us/step - loss: 244.8119 - val_loss: 782.2160\n",
      "Epoch 75/100\n",
      "1000/1000 [==============================] - 1s 957us/step - loss: 252.7833 - val_loss: 756.8053\n",
      "Epoch 76/100\n",
      "1000/1000 [==============================] - 1s 960us/step - loss: 244.1509 - val_loss: 702.9063\n",
      "Epoch 77/100\n",
      "1000/1000 [==============================] - 1s 946us/step - loss: 222.0597 - val_loss: 659.3559\n",
      "Epoch 78/100\n",
      "1000/1000 [==============================] - 1s 972us/step - loss: 228.5405 - val_loss: 619.0030\n",
      "Epoch 79/100\n",
      "1000/1000 [==============================] - 1s 950us/step - loss: 209.6312 - val_loss: 594.6715\n",
      "Epoch 80/100\n",
      "1000/1000 [==============================] - 1s 1ms/step - loss: 209.3700 - val_loss: 570.7391\n",
      "Epoch 81/100\n",
      "1000/1000 [==============================] - 1s 936us/step - loss: 209.8894 - val_loss: 551.3160\n",
      "Epoch 82/100\n",
      "1000/1000 [==============================] - 1s 940us/step - loss: 216.9216 - val_loss: 514.9915\n",
      "Epoch 83/100\n",
      "1000/1000 [==============================] - 1s 979us/step - loss: 191.6075 - val_loss: 482.9901\n",
      "Epoch 84/100\n",
      "1000/1000 [==============================] - 1s 1ms/step - loss: 207.8129 - val_loss: 459.8477\n",
      "Epoch 85/100\n",
      "1000/1000 [==============================] - 1s 992us/step - loss: 192.3007 - val_loss: 441.7261\n",
      "Epoch 86/100\n",
      "1000/1000 [==============================] - 1s 947us/step - loss: 175.5993 - val_loss: 414.9296\n",
      "Epoch 87/100\n",
      "1000/1000 [==============================] - 1s 968us/step - loss: 173.8019 - val_loss: 397.0319\n",
      "Epoch 88/100\n",
      "1000/1000 [==============================] - 1s 972us/step - loss: 187.9102 - val_loss: 378.6087\n",
      "Epoch 89/100\n",
      "1000/1000 [==============================] - 1s 941us/step - loss: 181.4343 - val_loss: 360.7899\n",
      "Epoch 90/100\n",
      "1000/1000 [==============================] - 1s 977us/step - loss: 174.2299 - val_loss: 349.7670\n",
      "Epoch 91/100\n",
      "1000/1000 [==============================] - 1s 1ms/step - loss: 162.2471 - val_loss: 330.6392\n",
      "Epoch 92/100\n",
      "1000/1000 [==============================] - 1s 964us/step - loss: 185.3814 - val_loss: 324.3483\n",
      "Epoch 93/100\n",
      "1000/1000 [==============================] - 1s 1ms/step - loss: 177.9216 - val_loss: 320.4225\n",
      "Epoch 94/100\n",
      "1000/1000 [==============================] - 1s 947us/step - loss: 164.3251 - val_loss: 306.9208\n",
      "Epoch 95/100\n",
      "1000/1000 [==============================] - 1s 985us/step - loss: 163.8556 - val_loss: 316.8752\n",
      "Epoch 96/100\n",
      "1000/1000 [==============================] - 1s 1ms/step - loss: 165.7207 - val_loss: 287.7940\n",
      "Epoch 97/100\n",
      "1000/1000 [==============================] - 1s 1ms/step - loss: 152.0813 - val_loss: 263.5554\n",
      "Epoch 98/100\n",
      "1000/1000 [==============================] - 1s 968us/step - loss: 167.5727 - val_loss: 264.5733\n",
      "Epoch 99/100\n",
      "1000/1000 [==============================] - 1s 1ms/step - loss: 153.9725 - val_loss: 255.9964\n",
      "Epoch 100/100\n",
      "1000/1000 [==============================] - 1s 1ms/step - loss: 158.1479 - val_loss: 275.9703\n"
     ]
    }
   ],
   "source": [
    "history2 = model2.fit(X_train_sc,y_train,epochs=100,validation_data=(X_test_sc,y_test))"
   ]
  },
  {
   "cell_type": "code",
   "execution_count": null,
   "metadata": {
    "colab": {
     "base_uri": "https://localhost:8080/",
     "height": 282
    },
    "colab_type": "code",
    "executionInfo": {
     "elapsed": 223942,
     "status": "ok",
     "timestamp": 1595076159080,
     "user": {
      "displayName": "KARRI SRI SAI SOWMYA KARRI SRI SAI SOWMYA",
      "photoUrl": "",
      "userId": "10490912341868593376"
     },
     "user_tz": -330
    },
    "id": "WeGG3zNJZ1c2",
    "outputId": "83e42ac1-a60a-471b-ab86-6012481262f5"
   },
   "outputs": [
    {
     "data": {
      "text/plain": [
       "[<matplotlib.lines.Line2D at 0x7fcb404d92b0>]"
      ]
     },
     "execution_count": 36,
     "metadata": {
      "tags": []
     },
     "output_type": "execute_result"
    },
    {
     "data": {
      "image/png": "[encoded data removed]",
      "text/plain": [
       "<Figure size 432x288 with 1 Axes>"
      ]
     },
     "metadata": {
      "needs_background": "light",
      "tags": []
     },
     "output_type": "display_data"
    }
   ],
   "source": [
    "tr_loss = history2.history['loss']\n",
    "val_loss = history2.history['val_loss']\n",
    "ep = list(range(1,101))\n",
    "plt.plot(ep,tr_loss,color='r')\n",
    "plt.plot(ep,val_loss,color='b')"
   ]
  },
  {
   "cell_type": "code",
   "execution_count": null,
   "metadata": {
    "colab": {
     "base_uri": "https://localhost:8080/",
     "height": 1000
    },
    "colab_type": "code",
    "executionInfo": {
     "elapsed": 223940,
     "status": "ok",
     "timestamp": 1595076159081,
     "user": {
      "displayName": "KARRI SRI SAI SOWMYA KARRI SRI SAI SOWMYA",
      "photoUrl": "",
      "userId": "10490912341868593376"
     },
     "user_tz": -330
    },
    "id": "--4U05-I7nHM",
    "outputId": "16916906-9b04-499f-bb4c-cf6b28567c6e"
   },
   "outputs": [
    {
     "data": {
      "text/plain": [
       "array([[220.13951],\n",
       "       [221.96179],\n",
       "       [224.32571],\n",
       "       [227.4786 ],\n",
       "       [231.88618],\n",
       "       [236.72266],\n",
       "       [241.09647],\n",
       "       [243.037  ],\n",
       "       [244.35751],\n",
       "       [244.22931],\n",
       "       [243.62442],\n",
       "       [243.58392],\n",
       "       [243.96405],\n",
       "       [244.44077],\n",
       "       [245.42767],\n",
       "       [246.82532],\n",
       "       [246.07361],\n",
       "       [244.93793],\n",
       "       [244.64172],\n",
       "       [245.02274],\n",
       "       [243.9006 ],\n",
       "       [241.89249],\n",
       "       [239.76924],\n",
       "       [238.26321],\n",
       "       [236.10815],\n",
       "       [234.22014],\n",
       "       [232.52383],\n",
       "       [230.80124],\n",
       "       [229.26335],\n",
       "       [229.2347 ],\n",
       "       [229.3365 ],\n",
       "       [230.41168],\n",
       "       [230.6586 ],\n",
       "       [228.00153],\n",
       "       [222.77916],\n",
       "       [217.26329],\n",
       "       [214.8006 ],\n",
       "       [215.32271],\n",
       "       [216.91473],\n",
       "       [218.73828],\n",
       "       [219.81558],\n",
       "       [220.35892],\n",
       "       [220.78568],\n",
       "       [221.68367],\n",
       "       [222.99301],\n",
       "       [224.52492],\n",
       "       [225.7827 ],\n",
       "       [227.58832],\n",
       "       [229.39233],\n",
       "       [230.68903],\n",
       "       [231.14117],\n",
       "       [231.41219],\n",
       "       [232.15074],\n",
       "       [232.99765],\n",
       "       [233.37433],\n",
       "       [234.7479 ],\n",
       "       [236.72488],\n",
       "       [239.09912],\n",
       "       [241.47028],\n",
       "       [242.02385],\n",
       "       [242.14853],\n",
       "       [241.65152],\n",
       "       [241.72461],\n",
       "       [242.19469],\n",
       "       [241.96484],\n",
       "       [242.5525 ],\n",
       "       [244.02756],\n",
       "       [243.22342],\n",
       "       [239.78201],\n",
       "       [237.08124],\n",
       "       [237.47696],\n",
       "       [238.2533 ],\n",
       "       [239.80893],\n",
       "       [240.75348],\n",
       "       [240.69655],\n",
       "       [242.62215],\n",
       "       [247.33841],\n",
       "       [251.76112],\n",
       "       [255.03937],\n",
       "       [257.92822],\n",
       "       [259.01782],\n",
       "       [259.14014],\n",
       "       [259.4865 ],\n",
       "       [260.88477],\n",
       "       [261.7152 ],\n",
       "       [262.13477],\n",
       "       [262.2074 ],\n",
       "       [262.0426 ],\n",
       "       [262.06598],\n",
       "       [262.1775 ],\n",
       "       [261.83493],\n",
       "       [260.21735],\n",
       "       [260.47754],\n",
       "       [261.99393],\n",
       "       [262.12567],\n",
       "       [262.03308],\n",
       "       [261.69028],\n",
       "       [260.90955],\n",
       "       [260.0499 ],\n",
       "       [260.4802 ],\n",
       "       [260.48245],\n",
       "       [260.30365],\n",
       "       [259.66736],\n",
       "       [259.15155],\n",
       "       [259.45294],\n",
       "       [259.55618],\n",
       "       [259.9165 ],\n",
       "       [259.44635],\n",
       "       [259.69916],\n",
       "       [260.31964],\n",
       "       [262.08795],\n",
       "       [262.66876],\n",
       "       [262.94962],\n",
       "       [263.1502 ],\n",
       "       [263.26736],\n",
       "       [263.33832],\n",
       "       [263.34964],\n",
       "       [263.37494],\n",
       "       [263.39844],\n",
       "       [263.3957 ],\n",
       "       [263.40686],\n",
       "       [263.4035 ],\n",
       "       [263.38824],\n",
       "       [263.3529 ],\n",
       "       [263.32376],\n",
       "       [263.3258 ],\n",
       "       [263.3292 ],\n",
       "       [263.3192 ],\n",
       "       [263.28772],\n",
       "       [263.2726 ],\n",
       "       [263.2987 ],\n",
       "       [263.30457],\n",
       "       [263.2245 ],\n",
       "       [263.02234],\n",
       "       [262.98566],\n",
       "       [263.09314],\n",
       "       [263.15784],\n",
       "       [263.12598],\n",
       "       [263.01193],\n",
       "       [262.75104],\n",
       "       [262.64557],\n",
       "       [262.6875 ],\n",
       "       [262.69916],\n",
       "       [262.39948],\n",
       "       [262.2615 ],\n",
       "       [262.21204],\n",
       "       [262.2741 ],\n",
       "       [261.83582],\n",
       "       [256.64514],\n",
       "       [249.181  ],\n",
       "       [246.41656],\n",
       "       [244.95363],\n",
       "       [245.14294],\n",
       "       [246.3997 ],\n",
       "       [246.88382],\n",
       "       [246.97629],\n",
       "       [246.79176],\n",
       "       [247.96338],\n",
       "       [250.87558],\n",
       "       [254.16452],\n",
       "       [255.97812],\n",
       "       [254.50919],\n",
       "       [253.39392],\n",
       "       [252.99306],\n",
       "       [250.5043 ],\n",
       "       [248.93173],\n",
       "       [247.80002],\n",
       "       [247.72961],\n",
       "       [249.12299],\n",
       "       [251.76031],\n",
       "       [254.48953],\n",
       "       [256.8064 ],\n",
       "       [258.443  ],\n",
       "       [259.21716],\n",
       "       [258.56506],\n",
       "       [258.7876 ],\n",
       "       [258.32758],\n",
       "       [258.08484],\n",
       "       [258.20023],\n",
       "       [257.75836],\n",
       "       [258.0438 ],\n",
       "       [258.82837],\n",
       "       [259.14752],\n",
       "       [260.33588],\n",
       "       [261.40195],\n",
       "       [261.84778],\n",
       "       [262.54816],\n",
       "       [262.92484],\n",
       "       [263.07855],\n",
       "       [263.17868],\n",
       "       [263.21378],\n",
       "       [263.27502],\n",
       "       [263.29688],\n",
       "       [263.28885],\n",
       "       [263.25598],\n",
       "       [263.22058],\n",
       "       [263.11053],\n",
       "       [262.51434],\n",
       "       [258.3797 ],\n",
       "       [257.98022],\n",
       "       [258.1814 ],\n",
       "       [259.53125],\n",
       "       [259.23627],\n",
       "       [259.24872],\n",
       "       [259.35095],\n",
       "       [261.21313],\n",
       "       [262.24774],\n",
       "       [262.84137],\n",
       "       [263.04523],\n",
       "       [263.09647],\n",
       "       [263.1901 ],\n",
       "       [263.23187],\n",
       "       [263.2013 ],\n",
       "       [263.0245 ],\n",
       "       [262.79675],\n",
       "       [262.77396],\n",
       "       [262.87708],\n",
       "       [262.88333],\n",
       "       [262.80304],\n",
       "       [262.64432],\n",
       "       [262.61588],\n",
       "       [262.84393],\n",
       "       [262.9219 ],\n",
       "       [262.88208],\n",
       "       [262.6546 ],\n",
       "       [262.46344],\n",
       "       [262.5713 ],\n",
       "       [262.6147 ],\n",
       "       [262.6621 ],\n",
       "       [262.831  ],\n",
       "       [262.90225],\n",
       "       [262.91888],\n",
       "       [262.8652 ],\n",
       "       [262.77667],\n",
       "       [262.8097 ],\n",
       "       [263.06412],\n",
       "       [263.21634],\n",
       "       [263.3291 ],\n",
       "       [263.40204],\n",
       "       [263.44785],\n",
       "       [263.4917 ],\n",
       "       [263.5134 ],\n",
       "       [263.52386],\n",
       "       [263.53342],\n",
       "       [263.54822],\n",
       "       [263.56287],\n",
       "       [263.5711 ],\n",
       "       [263.5838 ],\n",
       "       [263.59265],\n",
       "       [263.59756],\n",
       "       [263.59903]], dtype=float32)"
      ]
     },
     "execution_count": 37,
     "metadata": {
      "tags": []
     },
     "output_type": "execute_result"
    }
   ],
   "source": [
    "model2.predict(X_test_sc)"
   ]
  },
  {
   "cell_type": "code",
   "execution_count": null,
   "metadata": {
    "colab": {
     "base_uri": "https://localhost:8080/",
     "height": 282
    },
    "colab_type": "code",
    "executionInfo": {
     "elapsed": 224721,
     "status": "ok",
     "timestamp": 1595076159864,
     "user": {
      "displayName": "KARRI SRI SAI SOWMYA KARRI SRI SAI SOWMYA",
      "photoUrl": "",
      "userId": "10490912341868593376"
     },
     "user_tz": -330
    },
    "id": "daHKI7F17uiI",
    "outputId": "32207c13-7d86-41b4-f7cd-e08fbae023f7"
   },
   "outputs": [
    {
     "data": {
      "text/plain": [
       "[<matplotlib.lines.Line2D at 0x7fcb403d1978>]"
      ]
     },
     "execution_count": 38,
     "metadata": {
      "tags": []
     },
     "output_type": "execute_result"
    },
    {
     "data": {
      "image/png": "[encoded data removed]",
      "text/plain": [
       "<Figure size 432x288 with 1 Axes>"
      ]
     },
     "metadata": {
      "needs_background": "light",
      "tags": []
     },
     "output_type": "display_data"
    }
   ],
   "source": [
    "plt.plot(range(len(X_test_sc)),model.predict(X_test_sc).flat)\n",
    "plt.plot(range(len(X_test_sc)),y_test)"
   ]
  }
 ],
 "metadata": {
  "colab": {
   "name": "Copy of Assignment -41 (16 JULY 2020).ipynb",
   "provenance": [
    {
     "file_id": "1ljHr294ZmDs_dYYTVh7zYIbFgbA8FBPP",
     "timestamp": 1595080282912
    },
    {
     "file_id": "17bocOWUy-dGazBOPzAHx8eAfXExKe03u",
     "timestamp": 1595066166655
    }
   ]
  },
  "kernelspec": {
   "display_name": "Python 3",
   "language": "python",
   "name": "python3"
  },
  "language_info": {
   "codemirror_mode": {
    "name": "ipython",
    "version": 3
   },
   "file_extension": ".py",
   "mimetype": "text/x-python",
   "name": "python",
   "nbconvert_exporter": "python",
   "pygments_lexer": "ipython3",
   "version": "3.7.4"
  }
 },
 "nbformat": 4,
 "nbformat_minor": 1
}
